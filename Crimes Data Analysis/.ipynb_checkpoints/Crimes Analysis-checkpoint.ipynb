{
 "cells": [
  {
   "cell_type": "code",
   "execution_count": 1,
   "metadata": {},
   "outputs": [],
   "source": [
    "import numpy as np\n",
    "import pandas as pd\n",
    "import matplotlib.pyplot as plt"
   ]
  },
  {
   "cell_type": "code",
   "execution_count": 2,
   "metadata": {},
   "outputs": [],
   "source": [
    "df = pd.read_csv('Crimes.csv')"
   ]
  },
  {
   "cell_type": "code",
   "execution_count": 3,
   "metadata": {},
   "outputs": [
    {
     "data": {
      "text/html": [
       "<div>\n",
       "<style scoped>\n",
       "    .dataframe tbody tr th:only-of-type {\n",
       "        vertical-align: middle;\n",
       "    }\n",
       "\n",
       "    .dataframe tbody tr th {\n",
       "        vertical-align: top;\n",
       "    }\n",
       "\n",
       "    .dataframe thead th {\n",
       "        text-align: right;\n",
       "    }\n",
       "</style>\n",
       "<table border=\"1\" class=\"dataframe\">\n",
       "  <thead>\n",
       "    <tr style=\"text-align: right;\">\n",
       "      <th></th>\n",
       "      <th>ID</th>\n",
       "      <th>Case Number</th>\n",
       "      <th>Date</th>\n",
       "      <th>Block</th>\n",
       "      <th>IUCR</th>\n",
       "      <th>Primary Type</th>\n",
       "      <th>Description</th>\n",
       "      <th>Location Description</th>\n",
       "      <th>Arrest</th>\n",
       "      <th>Domestic</th>\n",
       "      <th>Beat</th>\n",
       "      <th>District</th>\n",
       "      <th>Ward</th>\n",
       "      <th>Community Area</th>\n",
       "    </tr>\n",
       "  </thead>\n",
       "  <tbody>\n",
       "    <tr>\n",
       "      <td>0</td>\n",
       "      <td>11798117</td>\n",
       "      <td>JC397040</td>\n",
       "      <td>8/17/19 23:59</td>\n",
       "      <td>058XX W EDDY ST</td>\n",
       "      <td>820</td>\n",
       "      <td>THEFT</td>\n",
       "      <td>$500 AND UNDER</td>\n",
       "      <td>STREET</td>\n",
       "      <td>True</td>\n",
       "      <td>False</td>\n",
       "      <td>1633</td>\n",
       "      <td>16</td>\n",
       "      <td>36.0</td>\n",
       "      <td>15</td>\n",
       "    </tr>\n",
       "    <tr>\n",
       "      <td>1</td>\n",
       "      <td>11798223</td>\n",
       "      <td>JC397365</td>\n",
       "      <td>8/17/19 23:59</td>\n",
       "      <td>007XX E 87TH ST</td>\n",
       "      <td>1310</td>\n",
       "      <td>CRIMINAL DAMAGE</td>\n",
       "      <td>TO PROPERTY</td>\n",
       "      <td>TAVERN/LIQUOR STORE</td>\n",
       "      <td>False</td>\n",
       "      <td>False</td>\n",
       "      <td>632</td>\n",
       "      <td>6</td>\n",
       "      <td>6.0</td>\n",
       "      <td>44</td>\n",
       "    </tr>\n",
       "    <tr>\n",
       "      <td>2</td>\n",
       "      <td>11797883</td>\n",
       "      <td>JC396936</td>\n",
       "      <td>8/17/19 23:57</td>\n",
       "      <td>022XX W 50TH PL</td>\n",
       "      <td>143A</td>\n",
       "      <td>WEAPONS VIOLATION</td>\n",
       "      <td>UNLAWFUL POSS OF HANDGUN</td>\n",
       "      <td>SIDEWALK</td>\n",
       "      <td>False</td>\n",
       "      <td>False</td>\n",
       "      <td>931</td>\n",
       "      <td>9</td>\n",
       "      <td>15.0</td>\n",
       "      <td>63</td>\n",
       "    </tr>\n",
       "    <tr>\n",
       "      <td>3</td>\n",
       "      <td>11797909</td>\n",
       "      <td>JC397003</td>\n",
       "      <td>8/17/19 23:55</td>\n",
       "      <td>086XX S PHILLIPS AVE</td>\n",
       "      <td>143A</td>\n",
       "      <td>WEAPONS VIOLATION</td>\n",
       "      <td>UNLAWFUL POSS OF HANDGUN</td>\n",
       "      <td>ALLEY</td>\n",
       "      <td>False</td>\n",
       "      <td>False</td>\n",
       "      <td>423</td>\n",
       "      <td>4</td>\n",
       "      <td>7.0</td>\n",
       "      <td>46</td>\n",
       "    </tr>\n",
       "    <tr>\n",
       "      <td>4</td>\n",
       "      <td>11797926</td>\n",
       "      <td>JC396947</td>\n",
       "      <td>8/17/19 23:45</td>\n",
       "      <td>079XX S SOUTH CHICAGO AVE</td>\n",
       "      <td>460</td>\n",
       "      <td>BATTERY</td>\n",
       "      <td>SIMPLE</td>\n",
       "      <td>SIDEWALK</td>\n",
       "      <td>True</td>\n",
       "      <td>False</td>\n",
       "      <td>411</td>\n",
       "      <td>4</td>\n",
       "      <td>8.0</td>\n",
       "      <td>46</td>\n",
       "    </tr>\n",
       "  </tbody>\n",
       "</table>\n",
       "</div>"
      ],
      "text/plain": [
       "         ID Case Number           Date                      Block  IUCR  \\\n",
       "0  11798117    JC397040  8/17/19 23:59            058XX W EDDY ST   820   \n",
       "1  11798223    JC397365  8/17/19 23:59            007XX E 87TH ST  1310   \n",
       "2  11797883    JC396936  8/17/19 23:57            022XX W 50TH PL  143A   \n",
       "3  11797909    JC397003  8/17/19 23:55       086XX S PHILLIPS AVE  143A   \n",
       "4  11797926    JC396947  8/17/19 23:45  079XX S SOUTH CHICAGO AVE   460   \n",
       "\n",
       "        Primary Type               Description Location Description  Arrest  \\\n",
       "0              THEFT            $500 AND UNDER               STREET    True   \n",
       "1    CRIMINAL DAMAGE               TO PROPERTY  TAVERN/LIQUOR STORE   False   \n",
       "2  WEAPONS VIOLATION  UNLAWFUL POSS OF HANDGUN             SIDEWALK   False   \n",
       "3  WEAPONS VIOLATION  UNLAWFUL POSS OF HANDGUN                ALLEY   False   \n",
       "4            BATTERY                    SIMPLE             SIDEWALK    True   \n",
       "\n",
       "   Domestic  Beat  District  Ward  Community Area  \n",
       "0     False  1633        16  36.0              15  \n",
       "1     False   632         6   6.0              44  \n",
       "2     False   931         9  15.0              63  \n",
       "3     False   423         4   7.0              46  \n",
       "4     False   411         4   8.0              46  "
      ]
     },
     "execution_count": 3,
     "metadata": {},
     "output_type": "execute_result"
    }
   ],
   "source": [
    "df.head()"
   ]
  },
  {
   "cell_type": "code",
   "execution_count": 4,
   "metadata": {},
   "outputs": [
    {
     "name": "stdout",
     "output_type": "stream",
     "text": [
      "161942 Index(['ID', 'Case Number', 'Date', 'Block', 'IUCR', 'Primary Type',\n",
      "       'Description', 'Location Description', 'Arrest', 'Domestic', 'Beat',\n",
      "       'District', 'Ward', 'Community Area'],\n",
      "      dtype='object')\n"
     ]
    }
   ],
   "source": [
    "print(len(df), df.columns)"
   ]
  },
  {
   "cell_type": "markdown",
   "metadata": {},
   "source": [
    "IUCR - The Illinois Unifrom Crime Reporting code\n",
    "\n",
    "Beat - Geographic area of the city broken down for patrol and statistical purposes.\n",
    "\n",
    "Battery - Battery is a criminal offense involving unlawful physical contact, distinct from assault which is the act of creating apprehension of such contact."
   ]
  },
  {
   "cell_type": "code",
   "execution_count": 5,
   "metadata": {},
   "outputs": [
    {
     "data": {
      "text/plain": [
       "ID                        0\n",
       "Case Number               0\n",
       "Date                      0\n",
       "Block                     0\n",
       "IUCR                      0\n",
       "Primary Type              0\n",
       "Description               0\n",
       "Location Description    569\n",
       "Arrest                    0\n",
       "Domestic                  0\n",
       "Beat                      0\n",
       "District                  0\n",
       "Ward                      7\n",
       "Community Area            0\n",
       "dtype: int64"
      ]
     },
     "execution_count": 5,
     "metadata": {},
     "output_type": "execute_result"
    }
   ],
   "source": [
    "df.isnull().sum()"
   ]
  },
  {
   "cell_type": "code",
   "execution_count": 6,
   "metadata": {},
   "outputs": [
    {
     "data": {
      "text/plain": [
       "False    134556\n",
       "True      27386\n",
       "Name: Domestic, dtype: int64"
      ]
     },
     "execution_count": 6,
     "metadata": {},
     "output_type": "execute_result"
    }
   ],
   "source": [
    "df['Domestic'].value_counts()"
   ]
  },
  {
   "cell_type": "code",
   "execution_count": 7,
   "metadata": {},
   "outputs": [
    {
     "data": {
      "text/plain": [
       "486     15051\n",
       "820     13842\n",
       "460     10565\n",
       "560      8847\n",
       "810      8790\n",
       "        ...  \n",
       "1525        1\n",
       "1481        1\n",
       "551         1\n",
       "4740        1\n",
       "5114        1\n",
       "Name: IUCR, Length: 306, dtype: int64"
      ]
     },
     "execution_count": 7,
     "metadata": {},
     "output_type": "execute_result"
    }
   ],
   "source": [
    "df['IUCR'].value_counts()"
   ]
  },
  {
   "cell_type": "code",
   "execution_count": 8,
   "metadata": {},
   "outputs": [
    {
     "data": {
      "text/plain": [
       "THEFT                                38203\n",
       "BATTERY                              31728\n",
       "CRIMINAL DAMAGE                      16806\n",
       "ASSAULT                              13219\n",
       "OTHER OFFENSE                        10761\n",
       "DECEPTIVE PRACTICE                   10630\n",
       "NARCOTICS                             8767\n",
       "BURGLARY                              5824\n",
       "MOTOR VEHICLE THEFT                   5712\n",
       "ROBBERY                               4903\n",
       "CRIMINAL TRESPASS                     4298\n",
       "WEAPONS VIOLATION                     4063\n",
       "OFFENSE INVOLVING CHILDREN            1478\n",
       "INTERFERENCE WITH PUBLIC OFFICER      1016\n",
       "PUBLIC PEACE VIOLATION                1003\n",
       "CRIM SEXUAL ASSAULT                    996\n",
       "SEX OFFENSE                            771\n",
       "PROSTITUTION                           455\n",
       "HOMICIDE                               311\n",
       "ARSON                                  222\n",
       "LIQUOR LAW VIOLATION                   146\n",
       "STALKING                               141\n",
       "CONCEALED CARRY LICENSE VIOLATION      133\n",
       "KIDNAPPING                             112\n",
       "INTIMIDATION                           103\n",
       "GAMBLING                                92\n",
       "OBSCENITY                               31\n",
       "HUMAN TRAFFICKING                        8\n",
       "OTHER NARCOTIC VIOLATION                 4\n",
       "PUBLIC INDECENCY                         4\n",
       "NON-CRIMINAL                             2\n",
       "Name: Primary Type, dtype: int64"
      ]
     },
     "execution_count": 8,
     "metadata": {},
     "output_type": "execute_result"
    }
   ],
   "source": [
    "df['Primary Type'].value_counts()"
   ]
  },
  {
   "cell_type": "code",
   "execution_count": 9,
   "metadata": {},
   "outputs": [
    {
     "data": {
      "text/plain": [
       "False    127670\n",
       "True      34272\n",
       "Name: Arrest, dtype: int64"
      ]
     },
     "execution_count": 9,
     "metadata": {},
     "output_type": "execute_result"
    }
   ],
   "source": [
    "df['Arrest'].value_counts()"
   ]
  },
  {
   "cell_type": "code",
   "execution_count": 23,
   "metadata": {},
   "outputs": [],
   "source": [
    "grouped = df[['Primary Type', 'Arrest']]"
   ]
  },
  {
   "cell_type": "code",
   "execution_count": 24,
   "metadata": {},
   "outputs": [
    {
     "name": "stdout",
     "output_type": "stream",
     "text": [
      "               Primary Type  Arrest\n",
      "0                     THEFT    True\n",
      "1           CRIMINAL DAMAGE   False\n",
      "2         WEAPONS VIOLATION   False\n",
      "3         WEAPONS VIOLATION   False\n",
      "4                   BATTERY    True\n",
      "...                     ...     ...\n",
      "161937          SEX OFFENSE    True\n",
      "161938   DECEPTIVE PRACTICE   False\n",
      "161939   DECEPTIVE PRACTICE   False\n",
      "161940   DECEPTIVE PRACTICE   False\n",
      "161941  MOTOR VEHICLE THEFT   False\n",
      "\n",
      "[161942 rows x 2 columns]\n"
     ]
    }
   ],
   "source": [
    "print(grouped)"
   ]
  },
  {
   "cell_type": "code",
   "execution_count": 32,
   "metadata": {},
   "outputs": [],
   "source": [
    "primary_type_arrests = grouped[grouped['Arrest'] == True]['Primary Type'].value_counts()"
   ]
  },
  {
   "cell_type": "code",
   "execution_count": 42,
   "metadata": {},
   "outputs": [
    {
     "data": {
      "text/plain": [
       "<matplotlib.axes._subplots.AxesSubplot at 0x7fe29e1f2790>"
      ]
     },
     "execution_count": 42,
     "metadata": {},
     "output_type": "execute_result"
    },
    {
     "data": {
      "image/png": "[encoded data removed]",
      "text/plain": [
       "<Figure size 432x288 with 1 Axes>"
      ]
     },
     "metadata": {
      "needs_background": "light"
     },
     "output_type": "display_data"
    }
   ],
   "source": [
    "primary_type_arrests.plot.bar()"
   ]
  },
  {
   "cell_type": "code",
   "execution_count": 43,
   "metadata": {},
   "outputs": [],
   "source": [
    "domestic_arrest = df[['Domestic','Arrest']]"
   ]
  },
  {
   "cell_type": "code",
   "execution_count": 44,
   "metadata": {},
   "outputs": [
    {
     "name": "stdout",
     "output_type": "stream",
     "text": [
      "        Domestic  Arrest\n",
      "0          False    True\n",
      "1          False   False\n",
      "2          False   False\n",
      "3          False   False\n",
      "4          False    True\n",
      "...          ...     ...\n",
      "161937     False    True\n",
      "161938     False   False\n",
      "161939     False   False\n",
      "161940     False   False\n",
      "161941     False   False\n",
      "\n",
      "[161942 rows x 2 columns]\n"
     ]
    }
   ],
   "source": [
    "print(domestic_arrest)"
   ]
  },
  {
   "cell_type": "code",
   "execution_count": 46,
   "metadata": {},
   "outputs": [],
   "source": [
    "domestic_arrest_count = domestic_arrest[domestic_arrest['Domestic'] == True]['Arrest'].value_counts()"
   ]
  },
  {
   "cell_type": "code",
   "execution_count": 47,
   "metadata": {},
   "outputs": [
    {
     "data": {
      "text/plain": [
       "<matplotlib.axes._subplots.AxesSubplot at 0x7fe29e0e8210>"
      ]
     },
     "execution_count": 47,
     "metadata": {},
     "output_type": "execute_result"
    },
    {
     "data": {
      "image/png": "[encoded data removed]",
      "text/plain": [
       "<Figure size 432x288 with 1 Axes>"
      ]
     },
     "metadata": {
      "needs_background": "light"
     },
     "output_type": "display_data"
    }
   ],
   "source": [
    "domestic_arrest_count.plot.bar()"
   ]
  },
  {
   "cell_type": "code",
   "execution_count": null,
   "metadata": {},
   "outputs": [],
   "source": []
  }
 ],
 "metadata": {
  "kernelspec": {
   "display_name": "Python 3",
   "language": "python",
   "name": "python3"
  },
  "language_info": {
   "codemirror_mode": {
    "name": "ipython",
    "version": 3
   },
   "file_extension": ".py",
   "mimetype": "text/x-python",
   "name": "python",
   "nbconvert_exporter": "python",
   "pygments_lexer": "ipython3",
   "version": "3.7.4"
  }
 },
 "nbformat": 4,
 "nbformat_minor": 2
}
