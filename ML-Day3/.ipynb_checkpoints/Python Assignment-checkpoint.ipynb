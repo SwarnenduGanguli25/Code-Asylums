{
 "cells": [
  {
   "cell_type": "markdown",
   "metadata": {},
   "source": [
    "Question 1 : Write a Python program to count the number of strings where the string length\n",
    "is 2 or more and the first and last character are same from a given list of strings."
   ]
  },
  {
   "cell_type": "code",
   "execution_count": 2,
   "metadata": {},
   "outputs": [
    {
     "name": "stdout",
     "output_type": "stream",
     "text": [
      "3\n"
     ]
    }
   ],
   "source": [
    "listOfStrings = ['asdasa', 'a', 'asdf', 'safsdf', 'assfsdfa', 'safsdfas']\n",
    "count = 0\n",
    "for string in listOfStrings :\n",
    "    if(len(string) >= 2 and string[0] == string[-1]) :\n",
    "        count += 1\n",
    "print(count)"
   ]
  },
  {
   "cell_type": "markdown",
   "metadata": {},
   "source": [
    "Question 2 : Add two lists using map and lambda"
   ]
  },
  {
   "cell_type": "code",
   "execution_count": 3,
   "metadata": {},
   "outputs": [
    {
     "name": "stdout",
     "output_type": "stream",
     "text": [
      "[5, 7, 9, 11, 13]\n"
     ]
    }
   ],
   "source": [
    "list1 = [1, 2, 3, 4, 5]\n",
    "list2 = [4, 5, 6, 7, 8]\n",
    "list3 = list(map(lambda x,y : x + y, list1, list2 ))\n",
    "print(list3)"
   ]
  },
  {
   "cell_type": "markdown",
   "metadata": {},
   "source": [
    "Question 3 : Write a Python script to print a dictionary where the keys are numbers between\n",
    "1 and 15 (both included) and the values are square of keys. "
   ]
  },
  {
   "cell_type": "code",
   "execution_count": 4,
   "metadata": {},
   "outputs": [
    {
     "name": "stdout",
     "output_type": "stream",
     "text": [
      "{1: 1, 2: 4, 3: 9, 4: 16, 5: 25, 6: 36, 7: 49, 8: 64, 9: 81, 10: 100, 11: 121, 12: 144, 13: 169, 14: 196, 15: 225}\n"
     ]
    }
   ],
   "source": [
    "result = dict()\n",
    "for i in range(1, 16) :\n",
    "    result[i] = i * i\n",
    "print(result)"
   ]
  },
  {
   "cell_type": "markdown",
   "metadata": {},
   "source": [
    "Question 4 : Write a Python program to print all unique values in a dictionary. "
   ]
  },
  {
   "cell_type": "code",
   "execution_count": 5,
   "metadata": {},
   "outputs": [
    {
     "name": "stdout",
     "output_type": "stream",
     "text": [
      "{1, 2, 3}\n"
     ]
    }
   ],
   "source": [
    "dictionary = {'a' : 1, 'b' : 1, 'c' : 2, 'd' : 3, 'e' : 3}\n",
    "result = set()\n",
    "for value in dictionary.values() :\n",
    "    result.add(value)\n",
    "print(result)"
   ]
  },
  {
   "cell_type": "markdown",
   "metadata": {},
   "source": [
    "Question 5 : Write a Python program to get the top three items in a shop"
   ]
  },
  {
   "cell_type": "code",
   "execution_count": 6,
   "metadata": {},
   "outputs": [],
   "source": [
    "shop = ['banana', '']"
   ]
  },
  {
   "cell_type": "markdown",
   "metadata": {},
   "source": [
    "Question 6 : Write a Python program to count number of items in a dictionary value that is a\n",
    "list (using map) "
   ]
  },
  {
   "cell_type": "code",
   "execution_count": 10,
   "metadata": {},
   "outputs": [
    {
     "name": "stdout",
     "output_type": "stream",
     "text": [
      "30\n"
     ]
    }
   ],
   "source": [
    "dictionary = {'a' : [1, 2, 3, 4], 'b' : [1, 2, 3, 4, 5], 'c' : [1, 2, 3, 4, 5, 6], 'd' : [1, 2, 3, 4, 5, 6, 7], 'e' : [1, 2, 3, 4, 5, 6, 7, 8]}\n",
    "result = list(map(lambda x : len(x), dictionary.values()))\n",
    "print(sum(result))"
   ]
  },
  {
   "cell_type": "markdown",
   "metadata": {},
   "source": [
    "Question 7 : Write a Python program to replace dictionary values with their average"
   ]
  },
  {
   "cell_type": "code",
   "execution_count": 11,
   "metadata": {},
   "outputs": [
    {
     "name": "stdout",
     "output_type": "stream",
     "text": [
      "{'a': 2.5, 'b': 3.0, 'c': 3.5, 'd': 4.0, 'e': 4.5}\n"
     ]
    }
   ],
   "source": [
    "dictionary = {'a' : [1, 2, 3, 4], 'b' : [1, 2, 3, 4, 5], 'c' : [1, 2, 3, 4, 5, 6], 'd' : [1, 2, 3, 4, 5, 6, 7], 'e' : [1, 2, 3, 4, 5, 6, 7, 8]}\n",
    "for item,value in dictionary.items() :\n",
    "    dictionary[item] = sum(dictionary[item])/len(dictionary[item])\n",
    "print(dictionary)"
   ]
  },
  {
   "cell_type": "markdown",
   "metadata": {},
   "source": [
    "Question 8 : Write a Python program to remove an item from a tuple. "
   ]
  },
  {
   "cell_type": "code",
   "execution_count": 13,
   "metadata": {},
   "outputs": [
    {
     "name": "stdout",
     "output_type": "stream",
     "text": [
      "(1, 3, 4)\n"
     ]
    }
   ],
   "source": [
    "var_tuple = (1, 2, 3, 4)\n",
    "var_list = list(var_tuple)\n",
    "var_list.remove(2)\n",
    "result = tuple(var_list)\n",
    "print(result)"
   ]
  },
  {
   "cell_type": "markdown",
   "metadata": {},
   "source": [
    "Question 9 : Given a list of strings, find all palindromes"
   ]
  },
  {
   "cell_type": "code",
   "execution_count": 16,
   "metadata": {},
   "outputs": [
    {
     "name": "stdout",
     "output_type": "stream",
     "text": [
      "['asa', 'asdadsa', 'nadan', 'nitin']\n"
     ]
    }
   ],
   "source": [
    "listOfStrings = ['asa', 'asdadsa', 'sdfsda', 'nadan', 'nitin']\n",
    "result = list(filter(lambda x : x == x[::-1], listOfStrings))\n",
    "print(result)"
   ]
  },
  {
   "cell_type": "markdown",
   "metadata": {},
   "source": [
    "Question 10 : Filter the negative values from given dictionary."
   ]
  },
  {
   "cell_type": "code",
   "execution_count": 20,
   "metadata": {},
   "outputs": [
    {
     "name": "stdout",
     "output_type": "stream",
     "text": [
      "{'a': 1, 'c': 2, 'e': 1}\n"
     ]
    }
   ],
   "source": [
    "dictionary = {'a' : 1, 'b' : -3, 'c' : 2, 'd' : -1, 'e' : 1}\n",
    "result = dict((a, b) for a,b in dictionary.items() if b >= 0)\n",
    "print(result)"
   ]
  },
  {
   "cell_type": "markdown",
   "metadata": {},
   "source": [
    "Question 11 :  Filter list of strings based on substrings list. "
   ]
  },
  {
   "cell_type": "code",
   "execution_count": null,
   "metadata": {},
   "outputs": [],
   "source": []
  }
 ],
 "metadata": {
  "kernelspec": {
   "display_name": "Python 3",
   "language": "python",
   "name": "python3"
  },
  "language_info": {
   "codemirror_mode": {
    "name": "ipython",
    "version": 3
   },
   "file_extension": ".py",
   "mimetype": "text/x-python",
   "name": "python",
   "nbconvert_exporter": "python",
   "pygments_lexer": "ipython3",
   "version": "3.7.4"
  }
 },
 "nbformat": 4,
 "nbformat_minor": 2
}
