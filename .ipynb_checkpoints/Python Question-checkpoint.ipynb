{
 "cells": [
  {
   "cell_type": "markdown",
   "metadata": {},
   "source": [
    "# Python Questions "
   ]
  },
  {
   "cell_type": "markdown",
   "metadata": {},
   "source": [
    "## Question 1 \n",
    "\n",
    "    a) Take List of string and find the email in list. \n",
    "Ex – [rahul@codeasylums.com, Rahul kumar]\n",
    "Output – rahul@codeasylums.com"
   ]
  },
  {
   "cell_type": "code",
   "execution_count": 1,
   "metadata": {},
   "outputs": [
    {
     "name": "stdout",
     "output_type": "stream",
     "text": [
      "Enter the strings with space as delimiter : saigirish220@gmail.com saigirish\n",
      "List of emails are ['saigirish220@gmail.com']\n"
     ]
    }
   ],
   "source": [
    "import re\n",
    "string_list = input('Enter the strings with space as delimiter : ').split()\n",
    "regex = '^[a-z0-9]+[\\._]?[a-z0-9]+[@]\\w+[.]\\w{2,3}$'\n",
    "\n",
    "def is_email(string):\n",
    "    if(re.search(regex, string)):\n",
    "        return True\n",
    "    else:\n",
    "        return False\n",
    "\n",
    "list_emails = [email for email in string_list if is_email(email) is True]\n",
    "print(f'List of emails are {list_emails}')"
   ]
  },
  {
   "cell_type": "markdown",
   "metadata": {},
   "source": [
    "## Question 2\n",
    "\n",
    "    b) Take dictionary (Key : Class, Value: Name). Extract list of name basis on class.\n",
    "Ex – {{‘9’:’Rahul’}, {‘10’:’Ritwik’}, {‘9’:’Pratik’},{’10’:’Sai’}}\n",
    "Output – [‘Rahul’, ‘Pratik’], [‘Ritwik’,’Sai’]"
   ]
  },
  {
   "cell_type": "code",
   "execution_count": 2,
   "metadata": {},
   "outputs": [
    {
     "name": "stdout",
     "output_type": "stream",
     "text": [
      "['Rahul', 'Pratik']\n",
      "['Ritwik', 'Sai']\n"
     ]
    }
   ],
   "source": [
    "from collections import defaultdict\n",
    "result_dict = defaultdict(list)\n",
    "dict_ = {'Rahul': '9', 'Ritwik': '10', 'Pratik': '9', 'Sai': '10'}\n",
    "for key,value in dict_.items():\n",
    "    result_dict[value].append(key)\n",
    "for value in result_dict.values():\n",
    "    print(value)"
   ]
  },
  {
   "cell_type": "markdown",
   "metadata": {},
   "source": [
    "## Question 3\n",
    "\n",
    "    c) Take feature name as list and take data as dataframe. \n",
    "    i) Check length of feature in list and length of feature in dataframe same or not?\n",
    "    ii) Feature name in list and feature name in dataframe same or not? (Sequence of name is also important).\n",
    "    iii) For every column check if there is null value. (Dictionary - {name: 'Column', value:'NULL' or '0'}). If value - NULL or column NULL - Yes\n",
    "    Value - 0, column - NULL - error"
   ]
  },
  {
   "cell_type": "code",
   "execution_count": 18,
   "metadata": {},
   "outputs": [
    {
     "name": "stdout",
     "output_type": "stream",
     "text": [
      "length of feature in list and length of feature in dataframe are not same\n",
      "Feature name in list and feature name in dataframe are same\n",
      "  columnA  columnB\n",
      "0    None        0\n",
      "Error inserting [23, None]\n",
      "  columnA  columnB\n",
      "0    None      0.0\n",
      "1     NaN      2.0\n",
      "2      10     43.0\n"
     ]
    }
   ],
   "source": [
    "import pandas as pd\n",
    "\n",
    "feature_name = ['name', 'age']\n",
    "list_ = [['girish', 21, 100000], ['karthik', 23, 120233], ['anil', 25, 24245400]]\n",
    "df = pd.DataFrame(list_, columns=['name', 'age', 'salary'])\n",
    "\n",
    "# i)\n",
    "\n",
    "if len(feature_name) == len(df.columns):\n",
    "    print('length of feature in list and length of feature in dataframe are same')\n",
    "else:\n",
    "    print('length of feature in list and length of feature in dataframe are not same')\n",
    "\n",
    "    \n",
    "# ii)\n",
    "\n",
    "feature_name_seq = [feature for feature in list(df.columns) if feature in feature_name]    \n",
    "if feature_name == feature_name_seq:\n",
    "    print('Feature name in list and feature name in dataframe are same')\n",
    "else:\n",
    "    print('Feature name in list and feature name in dataframe are not same')\n",
    "    \n",
    "    \n",
    "# iii)\n",
    "\n",
    "dict_ = {'columnA': None, 'columnB': 0}\n",
    "df2 = pd.DataFrame(dict_, index=[0])\n",
    "print(df2)\n",
    "\n",
    "def validate(list_):\n",
    "    if list_[1] is None:\n",
    "        return False\n",
    "    return True\n",
    "\n",
    "list1 = [None, 2]\n",
    "list2 = [10, 43]\n",
    "list3 = [23, None]\n",
    "\n",
    "if validate(list1):\n",
    "    df2 = df2.append(pd.Series(list1, ['columnA', 'columnB']), ignore_index=True)\n",
    "else:\n",
    "    print(f'Error inserting {list1}')\n",
    "\n",
    "if validate(list2):\n",
    "    df2 = df2.append(pd.Series(list2, ['columnA', 'columnB']), ignore_index=True)\n",
    "else:\n",
    "    print(f'Error inserting {list2}')\n",
    "    \n",
    "if validate(list3):\n",
    "    df2 = df2.append(pd.Series(list3, ['columnA', 'columnB']), ignore_index=True)\n",
    "else:\n",
    "    print(f'Error inserting {list3}')\n",
    "    \n",
    "print(df2)"
   ]
  },
  {
   "cell_type": "markdown",
   "metadata": {},
   "source": [
    "## Question 4\n",
    "\n",
    "Take list of string with name CamelCase and convert all name string into lower case and Upper case."
   ]
  },
  {
   "cell_type": "code",
   "execution_count": 19,
   "metadata": {},
   "outputs": [
    {
     "name": "stdout",
     "output_type": "stream",
     "text": [
      "Enter the strings delimited by space : sai afi dfgi Ajf FoSIF\n",
      "List of strings converted to lower case are ['sai', 'afi', 'dfgi', 'ajf', 'fosif'] \n",
      "List of strings converted to upper case are ['SAI', 'AFI', 'DFGI', 'AJF', 'FOSIF']\n"
     ]
    }
   ],
   "source": [
    "string_list = input('Enter the strings delimited by space : ').split()\n",
    "\n",
    "lower_case = [string.lower() for string in string_list]\n",
    "upper_case = [string.upper() for string in string_list]\n",
    "\n",
    "print(f'List of strings converted to lower case are {lower_case} \\nList of strings converted to upper case are {upper_case}')"
   ]
  },
  {
   "cell_type": "code",
   "execution_count": 20,
   "metadata": {},
   "outputs": [
    {
     "data": {
      "text/plain": [
       "False"
      ]
     },
     "execution_count": 20,
     "metadata": {},
     "output_type": "execute_result"
    }
   ],
   "source": [
    "['age', 'name'] in ['age', 'name', 'salary']"
   ]
  },
  {
   "cell_type": "markdown",
   "metadata": {},
   "source": [
    "## Question 5\n",
    "\n",
    "Take a list of numbers and print valid mobile numbers"
   ]
  },
  {
   "cell_type": "code",
   "execution_count": 22,
   "metadata": {},
   "outputs": [
    {
     "name": "stdout",
     "output_type": "stream",
     "text": [
      "Enter the list of  numbers delimited by space9980714724 +918105556401 08105556401 567687532\n",
      "List of phone numbers are ['9980714724', '+918105556401', '08105556401']\n"
     ]
    }
   ],
   "source": [
    "list_of_numbers = input('Enter the list of  numbers delimited by space').split()\n",
    "\n",
    "regex = '(0/+91)?[6-9][0-9]{9}'\n",
    "\n",
    "def is_mobile(string):\n",
    "    if(re.search(regex, string)):\n",
    "        return True\n",
    "    else:\n",
    "        return False\n",
    "\n",
    "list_mobile = [phone for phone in list_of_numbers if is_mobile(phone) is True]\n",
    "print(f'List of phone numbers are {list_mobile}')"
   ]
  },
  {
   "cell_type": "code",
   "execution_count": null,
   "metadata": {},
   "outputs": [],
   "source": []
  }
 ],
 "metadata": {
  "kernelspec": {
   "display_name": "Python 3",
   "language": "python",
   "name": "python3"
  },
  "language_info": {
   "codemirror_mode": {
    "name": "ipython",
    "version": 3
   },
   "file_extension": ".py",
   "mimetype": "text/x-python",
   "name": "python",
   "nbconvert_exporter": "python",
   "pygments_lexer": "ipython3",
   "version": "3.7.4"
  }
 },
 "nbformat": 4,
 "nbformat_minor": 2
}
