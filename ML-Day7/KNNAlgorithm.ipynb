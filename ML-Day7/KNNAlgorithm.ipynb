{
 "cells": [
  {
   "cell_type": "code",
   "execution_count": 1,
   "metadata": {},
   "outputs": [],
   "source": [
    "import pandas as pd\n",
    "import numpy as np\n",
    "import math\n",
    "import operator"
   ]
  },
  {
   "cell_type": "code",
   "execution_count": 2,
   "metadata": {},
   "outputs": [],
   "source": [
    "data = pd.read_csv('iris.csv')"
   ]
  },
  {
   "cell_type": "code",
   "execution_count": 3,
   "metadata": {},
   "outputs": [
    {
     "name": "stdout",
     "output_type": "stream",
     "text": [
      "   SepalLength  SepalWidth  PetalLength  PetalWidth         Name\n",
      "0          5.1         3.5          1.4         0.2  Iris-setosa\n",
      "1          4.9         3.0          1.4         0.2  Iris-setosa\n",
      "2          4.7         3.2          1.3         0.2  Iris-setosa\n",
      "3          4.6         3.1          1.5         0.2  Iris-setosa\n",
      "4          5.0         3.6          1.4         0.2  Iris-setosa\n"
     ]
    }
   ],
   "source": [
    "print(data.head(5))"
   ]
  },
  {
   "cell_type": "code",
   "execution_count": 4,
   "metadata": {},
   "outputs": [],
   "source": [
    "def euclideanDistance(data1, data2, length):\n",
    "    distance = 0\n",
    "    for x in range(length):\n",
    "        distance += np.square(data1[x] - data2[x])\n",
    "    return np.sqrt(distance)"
   ]
  },
  {
   "cell_type": "code",
   "execution_count": 9,
   "metadata": {},
   "outputs": [],
   "source": [
    "def knn(trainingSet, testInstance, k):\n",
    "    \n",
    "    distances = {}\n",
    "    sort = {}\n",
    "    \n",
    "    length = testInstance.shape[1]\n",
    "    \n",
    "    for x in range(len(trainingSet)):\n",
    "        dist = euclideanDistance(testInstance, trainingSet.iloc[x], length)\n",
    "        distances[x] = dist[0]\n",
    "        \n",
    "    sorted_d = sorted(distances.items(), key = operator.itemgetter(1))\n",
    "    neighbors = []\n",
    "    \n",
    "    for x in range(k):\n",
    "        neighbors.append(sorted_d[x][0])\n",
    "    classVotes = {}\n",
    "    \n",
    "    for x in range(len(neighbors)):\n",
    "        response = trainingSet.iloc[neighbors[x]][-1]\n",
    "        \n",
    "        if response in classVotes:\n",
    "            classVotes[response] += 1\n",
    "        else:\n",
    "            classVotes[response] = 1\n",
    "    \n",
    "    sortedVotes = sorted(classVotes.items(), key=operator.itemgetter(1), reverse=True)\n",
    "    return(sortedVotes[0][0], neighbors)"
   ]
  },
  {
   "cell_type": "code",
   "execution_count": 10,
   "metadata": {},
   "outputs": [],
   "source": [
    "testSet = [[7.2, 3.6, 5.1, 2.5]]\n",
    "test = pd.DataFrame(testSet)"
   ]
  },
  {
   "cell_type": "code",
   "execution_count": 11,
   "metadata": {},
   "outputs": [
    {
     "name": "stdout",
     "output_type": "stream",
     "text": [
      "\n",
      "\n",
      "With 1 Nearest Neighbour \n",
      "\n",
      "\n",
      "\n",
      "Predicted Class of the datapoint =  Iris-virginica\n",
      "\n",
      "Nearest Neighbour of the datapoints =  [141]\n",
      "\n",
      "\n",
      "With 3 Nearest Neighbours\n",
      "\n",
      "\n",
      "\n",
      "Predicted class of the datapoint =  Iris-virginica\n",
      "\n",
      "Nearest Neighbours of the datapoints =  [141, 139, 120]\n",
      "\n",
      "\n",
      "With 5 Nearest Neighbours\n",
      "\n",
      "\n",
      "\n",
      "Predicted class of the datapoint =  Iris-virginica\n",
      "\n",
      "Nearest Neighbours of the datapoints =  [141, 139, 120, 145, 144]\n"
     ]
    }
   ],
   "source": [
    "print('\\n\\nWith 1 Nearest Neighbour \\n\\n')\n",
    "k = 1\n",
    "#### End of STEP 2\n",
    "# Running KNN model\n",
    "result,neigh = knn(data, test, k)\n",
    "\n",
    "# Predicted class\n",
    "print('\\nPredicted Class of the datapoint = ', result)\n",
    "\n",
    "# Nearest neighbor\n",
    "print('\\nNearest Neighbour of the datapoints = ',neigh)\n",
    "\n",
    "\n",
    "print('\\n\\nWith 3 Nearest Neighbours\\n\\n')\n",
    "# Setting number of neighbors = 3 \n",
    "k = 3 \n",
    "# Running KNN model \n",
    "result,neigh = knn(data, test, k) \n",
    "\n",
    "# Predicted class \n",
    "print('\\nPredicted class of the datapoint = ',result)\n",
    "\n",
    "# Nearest neighbor\n",
    "print('\\nNearest Neighbours of the datapoints = ',neigh)\n",
    "\n",
    "print('\\n\\nWith 5 Nearest Neighbours\\n\\n')\n",
    "# Setting number of neighbors = 3 \n",
    "k = 5\n",
    "# Running KNN model \n",
    "result,neigh = knn(data, test, k) \n",
    "\n",
    "# Predicted class \n",
    "print('\\nPredicted class of the datapoint = ',result)\n",
    "\n",
    "# Nearest neighbor\n",
    "print('\\nNearest Neighbours of the datapoints = ',neigh)"
   ]
  },
  {
   "cell_type": "code",
   "execution_count": null,
   "metadata": {},
   "outputs": [],
   "source": []
  }
 ],
 "metadata": {
  "kernelspec": {
   "display_name": "Python 3",
   "language": "python",
   "name": "python3"
  },
  "language_info": {
   "codemirror_mode": {
    "name": "ipython",
    "version": 3
   },
   "file_extension": ".py",
   "mimetype": "text/x-python",
   "name": "python",
   "nbconvert_exporter": "python",
   "pygments_lexer": "ipython3",
   "version": "3.7.4"
  }
 },
 "nbformat": 4,
 "nbformat_minor": 2
}
