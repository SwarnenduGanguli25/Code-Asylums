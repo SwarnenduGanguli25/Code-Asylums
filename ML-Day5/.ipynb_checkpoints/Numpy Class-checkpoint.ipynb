{
 "cells": [
  {
   "cell_type": "code",
   "execution_count": 1,
   "metadata": {},
   "outputs": [],
   "source": [
    "import numpy as np"
   ]
  },
  {
   "cell_type": "code",
   "execution_count": 2,
   "metadata": {},
   "outputs": [],
   "source": [
    "a = np.array([[1, 2, 3]])"
   ]
  },
  {
   "cell_type": "code",
   "execution_count": 3,
   "metadata": {},
   "outputs": [
    {
     "name": "stdout",
     "output_type": "stream",
     "text": [
      "[[1 2 3]]\n"
     ]
    }
   ],
   "source": [
    "print(a)"
   ]
  },
  {
   "cell_type": "code",
   "execution_count": 4,
   "metadata": {},
   "outputs": [
    {
     "name": "stdout",
     "output_type": "stream",
     "text": [
      "<class 'numpy.ndarray'>\n"
     ]
    }
   ],
   "source": [
    "print(type(a))"
   ]
  },
  {
   "cell_type": "code",
   "execution_count": 5,
   "metadata": {},
   "outputs": [
    {
     "data": {
      "text/plain": [
       "(1, 3)"
      ]
     },
     "execution_count": 5,
     "metadata": {},
     "output_type": "execute_result"
    }
   ],
   "source": [
    "a.shape"
   ]
  },
  {
   "cell_type": "code",
   "execution_count": 6,
   "metadata": {},
   "outputs": [],
   "source": [
    "b = np.array([[1, 2, 3], [4, 5, 6]])"
   ]
  },
  {
   "cell_type": "code",
   "execution_count": 7,
   "metadata": {},
   "outputs": [
    {
     "name": "stdout",
     "output_type": "stream",
     "text": [
      "[[1 2 3]\n",
      " [4 5 6]]\n"
     ]
    }
   ],
   "source": [
    "print(b)"
   ]
  },
  {
   "cell_type": "code",
   "execution_count": 8,
   "metadata": {},
   "outputs": [
    {
     "data": {
      "text/plain": [
       "array([1, 2, 3])"
      ]
     },
     "execution_count": 8,
     "metadata": {},
     "output_type": "execute_result"
    }
   ],
   "source": [
    "a[0]"
   ]
  },
  {
   "cell_type": "code",
   "execution_count": 9,
   "metadata": {},
   "outputs": [
    {
     "data": {
      "text/plain": [
       "1"
      ]
     },
     "execution_count": 9,
     "metadata": {},
     "output_type": "execute_result"
    }
   ],
   "source": [
    "a[0, 0]"
   ]
  },
  {
   "cell_type": "code",
   "execution_count": 10,
   "metadata": {},
   "outputs": [],
   "source": [
    "a[0, 1] = 5"
   ]
  },
  {
   "cell_type": "code",
   "execution_count": 11,
   "metadata": {},
   "outputs": [
    {
     "name": "stdout",
     "output_type": "stream",
     "text": [
      "[[1 5 3]]\n"
     ]
    }
   ],
   "source": [
    "print(a)"
   ]
  },
  {
   "cell_type": "code",
   "execution_count": 12,
   "metadata": {},
   "outputs": [],
   "source": [
    "c = np.zeros((2, 2))"
   ]
  },
  {
   "cell_type": "code",
   "execution_count": 13,
   "metadata": {},
   "outputs": [
    {
     "name": "stdout",
     "output_type": "stream",
     "text": [
      "[[0. 0.]\n",
      " [0. 0.]]\n"
     ]
    }
   ],
   "source": [
    "print(c)"
   ]
  },
  {
   "cell_type": "code",
   "execution_count": 14,
   "metadata": {},
   "outputs": [
    {
     "name": "stdout",
     "output_type": "stream",
     "text": [
      "[[1. 1.]]\n"
     ]
    }
   ],
   "source": [
    "d = np.ones((1, 2))\n",
    "print(d)"
   ]
  },
  {
   "cell_type": "code",
   "execution_count": 15,
   "metadata": {},
   "outputs": [
    {
     "name": "stdout",
     "output_type": "stream",
     "text": [
      "[[7 7]\n",
      " [7 7]]\n"
     ]
    }
   ],
   "source": [
    "print(np.full((2, 2), 7))"
   ]
  },
  {
   "cell_type": "code",
   "execution_count": 16,
   "metadata": {},
   "outputs": [
    {
     "name": "stdout",
     "output_type": "stream",
     "text": [
      "[[12. 12.]]\n"
     ]
    }
   ],
   "source": [
    "print(d * 12)"
   ]
  },
  {
   "cell_type": "code",
   "execution_count": 17,
   "metadata": {},
   "outputs": [
    {
     "name": "stdout",
     "output_type": "stream",
     "text": [
      "[[ 3  0  0  0]\n",
      " [ 0  6  0  0]\n",
      " [ 0  0  9  0]\n",
      " [ 0  0  0 10]]\n"
     ]
    }
   ],
   "source": [
    "diag_ele = np.diag([3, 6, 9, 10])\n",
    "print(diag_ele)\n",
    "# a[0, 0] = 3 a[1, 1] = 6 a[2, 2] = 9 a[3, 3] = 10"
   ]
  },
  {
   "cell_type": "code",
   "execution_count": 18,
   "metadata": {},
   "outputs": [
    {
     "name": "stdout",
     "output_type": "stream",
     "text": [
      "(4, 4)\n"
     ]
    }
   ],
   "source": [
    "print(diag_ele.shape)"
   ]
  },
  {
   "cell_type": "code",
   "execution_count": 19,
   "metadata": {},
   "outputs": [],
   "source": [
    "a = np.array([[1,2,3,4],[5,6,7,8]])"
   ]
  },
  {
   "cell_type": "code",
   "execution_count": 20,
   "metadata": {},
   "outputs": [
    {
     "name": "stdout",
     "output_type": "stream",
     "text": [
      "[[2 3]\n",
      " [6 7]]\n"
     ]
    }
   ],
   "source": [
    "b = a[:,1:3]\n",
    "print(b)"
   ]
  },
  {
   "cell_type": "code",
   "execution_count": 21,
   "metadata": {},
   "outputs": [
    {
     "name": "stdout",
     "output_type": "stream",
     "text": [
      "[[2 3]\n",
      " [6 7]]\n"
     ]
    }
   ],
   "source": [
    "c = a[:, 1:-1]\n",
    "print(c)"
   ]
  },
  {
   "cell_type": "code",
   "execution_count": 22,
   "metadata": {},
   "outputs": [],
   "source": [
    "b[0, 0] = 50"
   ]
  },
  {
   "cell_type": "code",
   "execution_count": 23,
   "metadata": {},
   "outputs": [
    {
     "name": "stdout",
     "output_type": "stream",
     "text": [
      "[[ 1 50  3  4]\n",
      " [ 5  6  7  8]]\n"
     ]
    }
   ],
   "source": [
    "print(a)"
   ]
  },
  {
   "cell_type": "code",
   "execution_count": 24,
   "metadata": {},
   "outputs": [
    {
     "name": "stdout",
     "output_type": "stream",
     "text": [
      "[[50  3]\n",
      " [ 6  7]]\n"
     ]
    }
   ],
   "source": [
    "print(c)"
   ]
  },
  {
   "cell_type": "code",
   "execution_count": 25,
   "metadata": {},
   "outputs": [
    {
     "data": {
      "text/plain": [
       "True"
      ]
     },
     "execution_count": 25,
     "metadata": {},
     "output_type": "execute_result"
    }
   ],
   "source": [
    "np.shares_memory(a,b)"
   ]
  },
  {
   "cell_type": "code",
   "execution_count": 26,
   "metadata": {},
   "outputs": [
    {
     "name": "stdout",
     "output_type": "stream",
     "text": [
      "[[50  3]\n",
      " [ 6  7]]\n"
     ]
    }
   ],
   "source": [
    "d = a[:,1:3].copy()\n",
    "print(d)"
   ]
  },
  {
   "cell_type": "code",
   "execution_count": 27,
   "metadata": {},
   "outputs": [],
   "source": [
    "d[0,1] = 10"
   ]
  },
  {
   "cell_type": "code",
   "execution_count": 28,
   "metadata": {},
   "outputs": [
    {
     "name": "stdout",
     "output_type": "stream",
     "text": [
      "[[50 10]\n",
      " [ 6  7]]\n"
     ]
    }
   ],
   "source": [
    "print(d)"
   ]
  },
  {
   "cell_type": "code",
   "execution_count": 29,
   "metadata": {},
   "outputs": [
    {
     "name": "stdout",
     "output_type": "stream",
     "text": [
      "[[ 1 50  3  4]\n",
      " [ 5  6  7  8]]\n"
     ]
    }
   ],
   "source": [
    "print(a)"
   ]
  },
  {
   "cell_type": "code",
   "execution_count": 30,
   "metadata": {},
   "outputs": [
    {
     "name": "stdout",
     "output_type": "stream",
     "text": [
      "False\n"
     ]
    }
   ],
   "source": [
    "print(np.shares_memory(a,d))"
   ]
  },
  {
   "cell_type": "code",
   "execution_count": 31,
   "metadata": {},
   "outputs": [
    {
     "name": "stdout",
     "output_type": "stream",
     "text": [
      "[[ 1  2  3  4]\n",
      " [ 6  7  8  9]\n",
      " [10 11 12 13]]\n"
     ]
    }
   ],
   "source": [
    "# a = [[1,2,3,4], [6,7,8,9], [10,11,12,13]]\n",
    "# b = [[2,3],[7,8]]\n",
    "a = np.array([[1,2,3,4], [6,7,8,9], [10,11,12,13]])\n",
    "print(a)"
   ]
  },
  {
   "cell_type": "code",
   "execution_count": 32,
   "metadata": {},
   "outputs": [
    {
     "name": "stdout",
     "output_type": "stream",
     "text": [
      "[[2 3]\n",
      " [7 8]]\n"
     ]
    }
   ],
   "source": [
    "b = a[0:2,1:3].copy()\n",
    "print(b)"
   ]
  },
  {
   "cell_type": "code",
   "execution_count": 33,
   "metadata": {},
   "outputs": [],
   "source": [
    "b[1,1] = 32"
   ]
  },
  {
   "cell_type": "code",
   "execution_count": 34,
   "metadata": {},
   "outputs": [
    {
     "name": "stdout",
     "output_type": "stream",
     "text": [
      "[[ 1  2  3  4]\n",
      " [ 6  7  8  9]\n",
      " [10 11 12 13]] [[ 2  3]\n",
      " [ 7 32]]\n"
     ]
    }
   ],
   "source": [
    "print(a,b)"
   ]
  },
  {
   "cell_type": "code",
   "execution_count": 35,
   "metadata": {},
   "outputs": [
    {
     "name": "stdout",
     "output_type": "stream",
     "text": [
      "False\n"
     ]
    }
   ],
   "source": [
    "print(np.shares_memory(a,b))"
   ]
  },
  {
   "cell_type": "code",
   "execution_count": 36,
   "metadata": {},
   "outputs": [
    {
     "name": "stdout",
     "output_type": "stream",
     "text": [
      "[0 1 2 3]\n"
     ]
    }
   ],
   "source": [
    "r = np.arange(4)\n",
    "print(r)"
   ]
  },
  {
   "cell_type": "code",
   "execution_count": 37,
   "metadata": {},
   "outputs": [
    {
     "name": "stdout",
     "output_type": "stream",
     "text": [
      "[0 1 2 3 4]\n"
     ]
    }
   ],
   "source": [
    "r1 = np.arange(0, 5, 1)\n",
    "print(r1)"
   ]
  },
  {
   "cell_type": "code",
   "execution_count": 38,
   "metadata": {},
   "outputs": [
    {
     "name": "stdout",
     "output_type": "stream",
     "text": [
      "[ 2  4  6  8 10]\n"
     ]
    }
   ],
   "source": [
    "r2 = np.arange(2, 11, 2)\n",
    "print(r2)"
   ]
  },
  {
   "cell_type": "code",
   "execution_count": 39,
   "metadata": {},
   "outputs": [
    {
     "name": "stdout",
     "output_type": "stream",
     "text": [
      "[2, 4, 8, 10, 12, 14]\n"
     ]
    }
   ],
   "source": [
    "a = np.array([2, 3, 5, 4, 7, 8, 9, 10, 11, 12, 14])\n",
    "b = list(filter(lambda x : x%2 == 0, a))\n",
    "print(b)"
   ]
  },
  {
   "cell_type": "code",
   "execution_count": 40,
   "metadata": {},
   "outputs": [
    {
     "name": "stdout",
     "output_type": "stream",
     "text": [
      "[ 2  3  4  5  6  7  8  9 10 11 12 13]\n"
     ]
    }
   ],
   "source": [
    "a = np.arange(2, 14)\n",
    "print(a)"
   ]
  },
  {
   "cell_type": "code",
   "execution_count": 41,
   "metadata": {},
   "outputs": [
    {
     "name": "stdout",
     "output_type": "stream",
     "text": [
      "[ True False  True False  True False  True False  True False  True False]\n"
     ]
    }
   ],
   "source": [
    "bool_var = (a%2 == 0)\n",
    "print(bool_var)"
   ]
  },
  {
   "cell_type": "code",
   "execution_count": 42,
   "metadata": {},
   "outputs": [
    {
     "data": {
      "text/plain": [
       "array([ 2,  4,  6,  8, 10, 12])"
      ]
     },
     "execution_count": 42,
     "metadata": {},
     "output_type": "execute_result"
    }
   ],
   "source": [
    "a[bool_var]"
   ]
  },
  {
   "cell_type": "code",
   "execution_count": 43,
   "metadata": {},
   "outputs": [
    {
     "name": "stdout",
     "output_type": "stream",
     "text": [
      "[ 2  4  6  8 10 12]\n"
     ]
    }
   ],
   "source": [
    "print(a[a%2 == 0])"
   ]
  },
  {
   "cell_type": "code",
   "execution_count": 44,
   "metadata": {},
   "outputs": [
    {
     "data": {
      "text/plain": [
       "numpy.ndarray"
      ]
     },
     "execution_count": 44,
     "metadata": {},
     "output_type": "execute_result"
    }
   ],
   "source": [
    "type(a[a%2 == 0])"
   ]
  },
  {
   "cell_type": "code",
   "execution_count": 45,
   "metadata": {},
   "outputs": [],
   "source": [
    "b = a[a%2 == 0]"
   ]
  },
  {
   "cell_type": "code",
   "execution_count": 46,
   "metadata": {},
   "outputs": [
    {
     "name": "stdout",
     "output_type": "stream",
     "text": [
      "[ 2  4  6  8 10 12]\n"
     ]
    }
   ],
   "source": [
    "print(b)"
   ]
  },
  {
   "cell_type": "code",
   "execution_count": 47,
   "metadata": {},
   "outputs": [
    {
     "data": {
      "text/plain": [
       "False"
      ]
     },
     "execution_count": 47,
     "metadata": {},
     "output_type": "execute_result"
    }
   ],
   "source": [
    "np.shares_memory(a,b)"
   ]
  },
  {
   "cell_type": "code",
   "execution_count": 48,
   "metadata": {},
   "outputs": [],
   "source": [
    "b[0] = 20"
   ]
  },
  {
   "cell_type": "code",
   "execution_count": 49,
   "metadata": {},
   "outputs": [
    {
     "name": "stdout",
     "output_type": "stream",
     "text": [
      "[20  4  6  8 10 12]\n"
     ]
    }
   ],
   "source": [
    "print(b)"
   ]
  },
  {
   "cell_type": "code",
   "execution_count": 50,
   "metadata": {},
   "outputs": [
    {
     "name": "stdout",
     "output_type": "stream",
     "text": [
      "[ 2  3  4  5  6  7  8  9 10 11 12 13]\n"
     ]
    }
   ],
   "source": [
    "print(a)"
   ]
  },
  {
   "cell_type": "code",
   "execution_count": 51,
   "metadata": {},
   "outputs": [
    {
     "name": "stdout",
     "output_type": "stream",
     "text": [
      "[ 2  4  6  8 10 12]\n"
     ]
    },
    {
     "name": "stderr",
     "output_type": "stream",
     "text": [
      "/home/sai-girish/anaconda3/lib/python3.7/site-packages/ipykernel_launcher.py:1: FutureWarning: Using a non-tuple sequence for multidimensional indexing is deprecated; use `arr[tuple(seq)]` instead of `arr[seq]`. In the future this will be interpreted as an array index, `arr[np.array(seq)]`, which will result either in an error or a different result.\n",
      "  \"\"\"Entry point for launching an IPython kernel.\n"
     ]
    }
   ],
   "source": [
    "\n",
    "d = a[([a%2==0] or [a%3==0])]\n",
    "print(d)"
   ]
  },
  {
   "cell_type": "code",
   "execution_count": 52,
   "metadata": {},
   "outputs": [
    {
     "name": "stdout",
     "output_type": "stream",
     "text": [
      "[array([ True, False,  True, False,  True, False,  True, False,  True,\n",
      "       False,  True, False])]\n"
     ]
    }
   ],
   "source": [
    "bool_val = [a%2==0] or [a%3==0]\n",
    "print(bool_val)"
   ]
  },
  {
   "cell_type": "code",
   "execution_count": 53,
   "metadata": {},
   "outputs": [],
   "source": [
    "d = a[tuple(bool_val)]"
   ]
  },
  {
   "cell_type": "code",
   "execution_count": 54,
   "metadata": {},
   "outputs": [
    {
     "data": {
      "text/plain": [
       "array([ 2,  4,  6,  8, 10, 12])"
      ]
     },
     "execution_count": 54,
     "metadata": {},
     "output_type": "execute_result"
    }
   ],
   "source": [
    "d"
   ]
  },
  {
   "cell_type": "code",
   "execution_count": 55,
   "metadata": {},
   "outputs": [
    {
     "name": "stdout",
     "output_type": "stream",
     "text": [
      "[ 0  2  3  4  6  8  9 10]\n"
     ]
    }
   ],
   "source": [
    "a = np.arange(12)\n",
    "mask_1 = (a%3==0)\n",
    "mask_2 = (a%2==0)\n",
    "mask_3 = np.logical_or(mask_1, mask_2)\n",
    "b = a[mask_3]\n",
    "print(b)"
   ]
  },
  {
   "cell_type": "code",
   "execution_count": 56,
   "metadata": {},
   "outputs": [
    {
     "name": "stdout",
     "output_type": "stream",
     "text": [
      "[ 0  2  3  4  6  8  9 10]\n"
     ]
    }
   ],
   "source": [
    "r = a[(a%3 == 0) | (a%2 == 0)]\n",
    "print(r)"
   ]
  },
  {
   "cell_type": "code",
   "execution_count": 57,
   "metadata": {},
   "outputs": [
    {
     "name": "stdout",
     "output_type": "stream",
     "text": [
      "int64\n",
      "float64\n",
      "float32\n"
     ]
    }
   ],
   "source": [
    "f1 = np.array([1, 2])\n",
    "f2 = np.array([1.0, 2.0])\n",
    "f3 = np.array([1, 2], dtype = np.float32)\n",
    "\n",
    "print(f1.dtype)\n",
    "print(f2.dtype)\n",
    "print(f3.dtype)"
   ]
  },
  {
   "cell_type": "code",
   "execution_count": 58,
   "metadata": {},
   "outputs": [
    {
     "name": "stdout",
     "output_type": "stream",
     "text": [
      "[[25 85]\n",
      " [42 93]]\n"
     ]
    }
   ],
   "source": [
    "# element wise operation:\n",
    "a = np.array([[10, 20], [30, 50]])\n",
    "b = np.array([[15, 65], [12, 43]])\n",
    "print(a+b)"
   ]
  },
  {
   "cell_type": "code",
   "execution_count": 59,
   "metadata": {},
   "outputs": [
    {
     "name": "stdout",
     "output_type": "stream",
     "text": [
      "[[25 85]\n",
      " [42 93]]\n"
     ]
    }
   ],
   "source": [
    "print(np.add(a, b))"
   ]
  },
  {
   "cell_type": "code",
   "execution_count": 60,
   "metadata": {},
   "outputs": [
    {
     "name": "stdout",
     "output_type": "stream",
     "text": [
      "[[ -5 -45]\n",
      " [ 18   7]]\n",
      "[[ -5 -45]\n",
      " [ 18   7]]\n"
     ]
    }
   ],
   "source": [
    "print(a-b)\n",
    "print(np.subtract(a, b))"
   ]
  },
  {
   "cell_type": "code",
   "execution_count": 61,
   "metadata": {},
   "outputs": [
    {
     "name": "stdout",
     "output_type": "stream",
     "text": [
      "[[0.66666667 0.30769231]\n",
      " [2.5        1.1627907 ]]\n",
      "[[0.66666667 0.30769231]\n",
      " [2.5        1.1627907 ]]\n"
     ]
    }
   ],
   "source": [
    "print(a/b)\n",
    "print(np.divide(a, b))"
   ]
  },
  {
   "cell_type": "code",
   "execution_count": 62,
   "metadata": {},
   "outputs": [
    {
     "name": "stdout",
     "output_type": "stream",
     "text": [
      "[[10 20]\n",
      " [ 6  7]]\n",
      "[[10 20]\n",
      " [ 6  7]]\n"
     ]
    }
   ],
   "source": [
    "print(a%b)\n",
    "print(np.mod(a, b))"
   ]
  },
  {
   "cell_type": "code",
   "execution_count": 63,
   "metadata": {},
   "outputs": [
    {
     "name": "stdout",
     "output_type": "stream",
     "text": [
      "[[ 150 1300]\n",
      " [ 360 2150]]\n",
      "[[ 150 1300]\n",
      " [ 360 2150]]\n"
     ]
    }
   ],
   "source": [
    "print(a*b)\n",
    "print(np.multiply(a, b))"
   ]
  },
  {
   "cell_type": "code",
   "execution_count": 64,
   "metadata": {},
   "outputs": [
    {
     "data": {
      "text/plain": [
       "array([[3.16227766, 4.47213595],\n",
       "       [5.47722558, 7.07106781]])"
      ]
     },
     "execution_count": 64,
     "metadata": {},
     "output_type": "execute_result"
    }
   ],
   "source": [
    "np.sqrt(a)"
   ]
  },
  {
   "cell_type": "code",
   "execution_count": 65,
   "metadata": {},
   "outputs": [
    {
     "name": "stdout",
     "output_type": "stream",
     "text": [
      "219\n"
     ]
    }
   ],
   "source": [
    "v1 = np.array([9, 10])\n",
    "v2 = np.array([11, 12])\n",
    "\n",
    "print(v1.dot(v2))"
   ]
  },
  {
   "cell_type": "code",
   "execution_count": 66,
   "metadata": {},
   "outputs": [
    {
     "data": {
      "text/plain": [
       "219"
      ]
     },
     "execution_count": 66,
     "metadata": {},
     "output_type": "execute_result"
    }
   ],
   "source": [
    "np.dot(v1, v2)"
   ]
  },
  {
   "cell_type": "code",
   "execution_count": 67,
   "metadata": {},
   "outputs": [
    {
     "name": "stdout",
     "output_type": "stream",
     "text": [
      "86\n"
     ]
    }
   ],
   "source": [
    "var = np.array([[10, 12], [15, 17], [13, 19]])\n",
    "\n",
    "print(np.sum(var))"
   ]
  },
  {
   "cell_type": "code",
   "execution_count": 68,
   "metadata": {},
   "outputs": [
    {
     "name": "stdout",
     "output_type": "stream",
     "text": [
      "[38 48]\n"
     ]
    }
   ],
   "source": [
    "print(np.sum(var, axis = 0)) # Column wise addition"
   ]
  },
  {
   "cell_type": "code",
   "execution_count": 69,
   "metadata": {},
   "outputs": [
    {
     "name": "stdout",
     "output_type": "stream",
     "text": [
      "[22 32 32]\n"
     ]
    }
   ],
   "source": [
    "print(np.sum(var, axis = 1)) # row wise addition"
   ]
  },
  {
   "cell_type": "code",
   "execution_count": 70,
   "metadata": {},
   "outputs": [
    {
     "name": "stdout",
     "output_type": "stream",
     "text": [
      "(3, 2)\n"
     ]
    }
   ],
   "source": [
    "print(var.shape)"
   ]
  },
  {
   "cell_type": "code",
   "execution_count": 71,
   "metadata": {},
   "outputs": [
    {
     "name": "stdout",
     "output_type": "stream",
     "text": [
      "[[10 15 13]\n",
      " [12 17 19]]\n"
     ]
    }
   ],
   "source": [
    "print(var.T)"
   ]
  },
  {
   "cell_type": "code",
   "execution_count": 72,
   "metadata": {},
   "outputs": [
    {
     "name": "stdout",
     "output_type": "stream",
     "text": [
      "(2, 3)\n"
     ]
    }
   ],
   "source": [
    "print((var.T).shape)"
   ]
  },
  {
   "cell_type": "code",
   "execution_count": 73,
   "metadata": {},
   "outputs": [
    {
     "name": "stdout",
     "output_type": "stream",
     "text": [
      "[[20 21 22]\n",
      " [24 25 26]\n",
      " [22 24 26]]\n"
     ]
    }
   ],
   "source": [
    "var1 = np.array([[10, 11, 12], [14, 15, 16], [12, 14, 16]])\n",
    "var2 = np.array([10, 10, 10])\n",
    "print(var1 + var2)"
   ]
  },
  {
   "cell_type": "code",
   "execution_count": 74,
   "metadata": {},
   "outputs": [
    {
     "name": "stdout",
     "output_type": "stream",
     "text": [
      "20 21 22 \n",
      "24 25 26 \n",
      "22 24 26 \n"
     ]
    }
   ],
   "source": [
    "for array in var1 :\n",
    "    for j in range(len(var2)) :\n",
    "        print(array[j] + var2[j], end = \" \")\n",
    "    print(\"\")"
   ]
  },
  {
   "cell_type": "code",
   "execution_count": 75,
   "metadata": {},
   "outputs": [],
   "source": [
    "y = np.zeros(var1.shape)"
   ]
  },
  {
   "cell_type": "code",
   "execution_count": 76,
   "metadata": {},
   "outputs": [
    {
     "name": "stdout",
     "output_type": "stream",
     "text": [
      "[[0. 0. 0.]\n",
      " [0. 0. 0.]\n",
      " [0. 0. 0.]]\n"
     ]
    }
   ],
   "source": [
    "print(y)"
   ]
  },
  {
   "cell_type": "code",
   "execution_count": 77,
   "metadata": {},
   "outputs": [
    {
     "name": "stdout",
     "output_type": "stream",
     "text": [
      "[[20. 21. 22.]\n",
      " [24. 25. 26.]\n",
      " [22. 24. 26.]]\n"
     ]
    }
   ],
   "source": [
    "for i in range(3) :\n",
    "    y[i,:] = var1[i,:] + var2\n",
    "print(y)"
   ]
  },
  {
   "cell_type": "code",
   "execution_count": 78,
   "metadata": {},
   "outputs": [
    {
     "name": "stdout",
     "output_type": "stream",
     "text": [
      "(3,)\n"
     ]
    }
   ],
   "source": [
    "print(var2.shape)"
   ]
  },
  {
   "cell_type": "code",
   "execution_count": 79,
   "metadata": {},
   "outputs": [],
   "source": [
    "conv_mat = np.tile(var2, (3,1))"
   ]
  },
  {
   "cell_type": "code",
   "execution_count": 80,
   "metadata": {},
   "outputs": [
    {
     "name": "stdout",
     "output_type": "stream",
     "text": [
      "[[10 10 10]\n",
      " [10 10 10]\n",
      " [10 10 10]]\n"
     ]
    }
   ],
   "source": [
    "print(conv_mat)"
   ]
  },
  {
   "cell_type": "code",
   "execution_count": 81,
   "metadata": {},
   "outputs": [
    {
     "name": "stdout",
     "output_type": "stream",
     "text": [
      "[[20 21 22]\n",
      " [24 25 26]\n",
      " [22 24 26]]\n"
     ]
    }
   ],
   "source": [
    "print(var1+conv_mat)"
   ]
  },
  {
   "cell_type": "code",
   "execution_count": 82,
   "metadata": {},
   "outputs": [],
   "source": [
    "a = np.arange(4)"
   ]
  },
  {
   "cell_type": "code",
   "execution_count": 83,
   "metadata": {},
   "outputs": [
    {
     "name": "stdout",
     "output_type": "stream",
     "text": [
      "[0 1 2 3 0 1 2 3]\n"
     ]
    }
   ],
   "source": [
    "print(np.tile(a, 2))"
   ]
  },
  {
   "cell_type": "code",
   "execution_count": 85,
   "metadata": {},
   "outputs": [
    {
     "name": "stdout",
     "output_type": "stream",
     "text": [
      "[[25 26 27 28 29]\n",
      " [35 38 39 40 41]\n",
      " [46 47 48 49 50]]\n",
      "[[25. 26. 27. 28. 29.]\n",
      " [35. 38. 39. 40. 41.]\n",
      " [46. 47. 48. 49. 50.]]\n",
      "[[25 26 27 28 29]\n",
      " [35 38 39 40 41]\n",
      " [46 47 48 49 50]]\n"
     ]
    }
   ],
   "source": [
    "a = np.array([[10, 11, 12, 13, 14], [20, 23, 24, 25, 26], [31, 32, 33, 34, 35]])\n",
    "\n",
    "b = np.array([[15, 15, 15, 15, 15]])\n",
    "\n",
    "print(a+b)\n",
    "x = np.zeros(a.shape)\n",
    "for i in range(len(a)) :\n",
    "    x[i,:] = a[i,:] + b\n",
    "print(x)\n",
    "convMat = np.tile(b, (len(a), len(b)))\n",
    "print(a + convMat)"
   ]
  },
  {
   "cell_type": "code",
   "execution_count": 89,
   "metadata": {},
   "outputs": [
    {
     "name": "stdout",
     "output_type": "stream",
     "text": [
      "[[ 4  5]\n",
      " [ 8 10]\n",
      " [12 15]]\n"
     ]
    }
   ],
   "source": [
    "a = np.array([[1, 2, 3]])\n",
    "b = np.array([[4, 5]])\n",
    "print(a.T * b)"
   ]
  },
  {
   "cell_type": "code",
   "execution_count": 90,
   "metadata": {},
   "outputs": [
    {
     "data": {
      "text/plain": [
       "array([[ 4,  5],\n",
       "       [ 8, 10],\n",
       "       [12, 15]])"
      ]
     },
     "execution_count": 90,
     "metadata": {},
     "output_type": "execute_result"
    }
   ],
   "source": [
    "a.T.dot(b)"
   ]
  },
  {
   "cell_type": "code",
   "execution_count": 91,
   "metadata": {},
   "outputs": [
    {
     "name": "stdout",
     "output_type": "stream",
     "text": [
      "(10,)\n"
     ]
    }
   ],
   "source": [
    "a = np.arange(10)\n",
    "print(a.shape)"
   ]
  },
  {
   "cell_type": "code",
   "execution_count": 92,
   "metadata": {},
   "outputs": [
    {
     "name": "stdout",
     "output_type": "stream",
     "text": [
      "[[0 1 2 3 4]\n",
      " [5 6 7 8 9]]\n"
     ]
    }
   ],
   "source": [
    "print(a.reshape(2,5))"
   ]
  },
  {
   "cell_type": "code",
   "execution_count": 93,
   "metadata": {},
   "outputs": [
    {
     "data": {
      "text/plain": [
       "array([[0, 1, 2, 3, 4],\n",
       "       [5, 6, 7, 8, 9]])"
      ]
     },
     "execution_count": 93,
     "metadata": {},
     "output_type": "execute_result"
    }
   ],
   "source": [
    "np.reshape(a, (2,5))"
   ]
  },
  {
   "cell_type": "code",
   "execution_count": 94,
   "metadata": {},
   "outputs": [
    {
     "data": {
      "text/plain": [
       "array([[0, 1, 2, 3, 4],\n",
       "       [5, 6, 7, 8, 9]])"
      ]
     },
     "execution_count": 94,
     "metadata": {},
     "output_type": "execute_result"
    }
   ],
   "source": [
    "np.reshape(a, (2, -1))"
   ]
  },
  {
   "cell_type": "code",
   "execution_count": 95,
   "metadata": {},
   "outputs": [
    {
     "data": {
      "text/plain": [
       "array([[0, 1],\n",
       "       [2, 3],\n",
       "       [4, 5],\n",
       "       [6, 7],\n",
       "       [8, 9]])"
      ]
     },
     "execution_count": 95,
     "metadata": {},
     "output_type": "execute_result"
    }
   ],
   "source": [
    "np.reshape(a, (-1, 2))"
   ]
  },
  {
   "cell_type": "code",
   "execution_count": 97,
   "metadata": {},
   "outputs": [],
   "source": [
    "#np.reshape(a, (7, -1))"
   ]
  },
  {
   "cell_type": "code",
   "execution_count": 102,
   "metadata": {},
   "outputs": [
    {
     "name": "stdout",
     "output_type": "stream",
     "text": [
      "[12 13 14 15 16 17]\n"
     ]
    }
   ],
   "source": [
    "arr = np.array([[12, 13, 14], [15, 16, 17]])\n",
    "\n",
    "# Need to find the count of elements\n",
    "lenT = 0\n",
    "for array in arr :\n",
    "    lenT += len(array)\n",
    "\n",
    "print(np.reshape(arr, (lenT)))"
   ]
  },
  {
   "cell_type": "code",
   "execution_count": 100,
   "metadata": {},
   "outputs": [
    {
     "data": {
      "text/plain": [
       "array([12, 13, 14, 15, 16, 17])"
      ]
     },
     "execution_count": 100,
     "metadata": {},
     "output_type": "execute_result"
    }
   ],
   "source": [
    "arr.ravel()"
   ]
  },
  {
   "cell_type": "code",
   "execution_count": 103,
   "metadata": {},
   "outputs": [
    {
     "data": {
      "text/plain": [
       "array([12, 13, 14, 15, 16, 17])"
      ]
     },
     "execution_count": 103,
     "metadata": {},
     "output_type": "execute_result"
    }
   ],
   "source": [
    "arr.flatten()"
   ]
  },
  {
   "cell_type": "code",
   "execution_count": 104,
   "metadata": {},
   "outputs": [],
   "source": [
    "c = arr.ravel()"
   ]
  },
  {
   "cell_type": "code",
   "execution_count": 105,
   "metadata": {},
   "outputs": [],
   "source": [
    "d = arr.flatten()"
   ]
  },
  {
   "cell_type": "code",
   "execution_count": 106,
   "metadata": {},
   "outputs": [
    {
     "name": "stdout",
     "output_type": "stream",
     "text": [
      "[[10 13 14]\n",
      " [15 16 17]]\n"
     ]
    }
   ],
   "source": [
    "c[0] = 10\n",
    "print(arr)"
   ]
  },
  {
   "cell_type": "code",
   "execution_count": 107,
   "metadata": {},
   "outputs": [
    {
     "name": "stdout",
     "output_type": "stream",
     "text": [
      "[[10 13 14]\n",
      " [15 16 17]]\n"
     ]
    }
   ],
   "source": [
    "d[1] = 100\n",
    "print(arr)"
   ]
  },
  {
   "cell_type": "code",
   "execution_count": 109,
   "metadata": {},
   "outputs": [],
   "source": [
    "# .ravel is like a view of array\n",
    "# .flatten is copy of array"
   ]
  },
  {
   "cell_type": "code",
   "execution_count": 116,
   "metadata": {},
   "outputs": [],
   "source": [
    "b = np.array([[10, 11, 21, 14, 16, 17, 19, 22]])"
   ]
  },
  {
   "cell_type": "code",
   "execution_count": 117,
   "metadata": {},
   "outputs": [
    {
     "name": "stdout",
     "output_type": "stream",
     "text": [
      "[[10 11 14 16 17 19 21 22]]\n"
     ]
    }
   ],
   "source": [
    "print(np.sort(b))"
   ]
  },
  {
   "cell_type": "code",
   "execution_count": 118,
   "metadata": {},
   "outputs": [
    {
     "name": "stdout",
     "output_type": "stream",
     "text": [
      "[[10 11 21 14 16 17 19 22]]\n"
     ]
    }
   ],
   "source": [
    "print(b)"
   ]
  },
  {
   "cell_type": "code",
   "execution_count": 123,
   "metadata": {},
   "outputs": [
    {
     "name": "stdout",
     "output_type": "stream",
     "text": [
      "[[10 11 14 16 17 19 21 22]]\n"
     ]
    }
   ],
   "source": [
    "b.sort() # To have the effect in b\n",
    "print(b)"
   ]
  },
  {
   "cell_type": "code",
   "execution_count": 125,
   "metadata": {},
   "outputs": [
    {
     "data": {
      "text/plain": [
       "22"
      ]
     },
     "execution_count": 125,
     "metadata": {},
     "output_type": "execute_result"
    }
   ],
   "source": [
    "np.max(b)"
   ]
  },
  {
   "cell_type": "code",
   "execution_count": 126,
   "metadata": {},
   "outputs": [
    {
     "data": {
      "text/plain": [
       "7"
      ]
     },
     "execution_count": 126,
     "metadata": {},
     "output_type": "execute_result"
    }
   ],
   "source": [
    "np.argmax(b)"
   ]
  },
  {
   "cell_type": "code",
   "execution_count": 130,
   "metadata": {},
   "outputs": [
    {
     "data": {
      "text/plain": [
       "22"
      ]
     },
     "execution_count": 130,
     "metadata": {},
     "output_type": "execute_result"
    }
   ],
   "source": [
    "b[0,np.argmax(b)]"
   ]
  },
  {
   "cell_type": "code",
   "execution_count": 131,
   "metadata": {},
   "outputs": [
    {
     "data": {
      "text/plain": [
       "10"
      ]
     },
     "execution_count": 131,
     "metadata": {},
     "output_type": "execute_result"
    }
   ],
   "source": [
    "b[0,np.argmin(b)]"
   ]
  },
  {
   "cell_type": "code",
   "execution_count": 136,
   "metadata": {},
   "outputs": [
    {
     "ename": "SyntaxError",
     "evalue": "invalid syntax (<ipython-input-136-1d6a12d7de72>, line 6)",
     "output_type": "error",
     "traceback": [
      "\u001b[0;36m  File \u001b[0;32m\"<ipython-input-136-1d6a12d7de72>\"\u001b[0;36m, line \u001b[0;32m6\u001b[0m\n\u001b[0;31m    c = a[i for i in range(len(a)) if a[i] not in b]\u001b[0m\n\u001b[0m              ^\u001b[0m\n\u001b[0;31mSyntaxError\u001b[0m\u001b[0;31m:\u001b[0m invalid syntax\n"
     ]
    }
   ],
   "source": [
    "a = np.array([1, 2, 3, 4, 5])\n",
    "b = np.array([5, 6, 7, 8, 9, 10])\n",
    "\n",
    "\n",
    "c = a[i for i in range(len(a)) if a[i] not in b]\n",
    "\n",
    "print(c)"
   ]
  },
  {
   "cell_type": "code",
   "execution_count": 144,
   "metadata": {},
   "outputs": [
    {
     "name": "stdout",
     "output_type": "stream",
     "text": [
      "[1, 2, 3, 4]\n"
     ]
    }
   ],
   "source": [
    "a = np.array([1, 2, 3, 4, 5])\n",
    "b = np.array([5, 6, 7, 8, 9, 10])\n",
    "\n",
    "c = []\n",
    "\n",
    "for i in range(len(a)):\n",
    "    if a[i] not in b :\n",
    "        c.append(a[i])\n",
    "print(c)\n",
    "    "
   ]
  },
  {
   "cell_type": "code",
   "execution_count": 145,
   "metadata": {},
   "outputs": [
    {
     "data": {
      "text/plain": [
       "array([1, 2, 3, 4])"
      ]
     },
     "execution_count": 145,
     "metadata": {},
     "output_type": "execute_result"
    }
   ],
   "source": [
    "np.array(list(set(a).intersection(set(b))))\n",
    "np.array(list(set(a) - set(b)))"
   ]
  },
  {
   "cell_type": "code",
   "execution_count": 146,
   "metadata": {},
   "outputs": [
    {
     "name": "stdout",
     "output_type": "stream",
     "text": [
      "[1 2 3 4]\n"
     ]
    },
    {
     "data": {
      "text/plain": [
       "array([5])"
      ]
     },
     "execution_count": 146,
     "metadata": {},
     "output_type": "execute_result"
    }
   ],
   "source": [
    "print(np.setdiff1d(a,b))\n",
    "np.intersect1d(a,b)"
   ]
  },
  {
   "cell_type": "code",
   "execution_count": 147,
   "metadata": {},
   "outputs": [
    {
     "data": {
      "text/plain": [
       "array([16, 17])"
      ]
     },
     "execution_count": 147,
     "metadata": {},
     "output_type": "execute_result"
    }
   ],
   "source": [
    "a = [10, 12, 13, 14, 15, 16, 17]\n",
    "b = [16, 17, 19, 20]\n",
    "np.intersect1d(a,b)"
   ]
  },
  {
   "cell_type": "code",
   "execution_count": 159,
   "metadata": {},
   "outputs": [],
   "source": [
    "url = 'https://archive.ics.uci.edu/ml/machine-learning-databases/iris/iris.data' \n",
    "iris = np.genfromtxt(url, delimiter = ',', dtype='object')\n",
    "names = ('sepallength', 'sepalwidth', 'petallength', 'petalwidth', 'species')"
   ]
  },
  {
   "cell_type": "code",
   "execution_count": 160,
   "metadata": {},
   "outputs": [
    {
     "name": "stdout",
     "output_type": "stream",
     "text": [
      "[[b'5.1' b'3.5' b'1.4' b'0.2' b'Iris-setosa']\n",
      " [b'4.9' b'3.0' b'1.4' b'0.2' b'Iris-setosa']\n",
      " [b'4.7' b'3.2' b'1.3' b'0.2' b'Iris-setosa']\n",
      " [b'4.6' b'3.1' b'1.5' b'0.2' b'Iris-setosa']\n",
      " [b'5.0' b'3.6' b'1.4' b'0.2' b'Iris-setosa']\n",
      " [b'5.4' b'3.9' b'1.7' b'0.4' b'Iris-setosa']\n",
      " [b'4.6' b'3.4' b'1.4' b'0.3' b'Iris-setosa']\n",
      " [b'5.0' b'3.4' b'1.5' b'0.2' b'Iris-setosa']\n",
      " [b'4.4' b'2.9' b'1.4' b'0.2' b'Iris-setosa']\n",
      " [b'4.9' b'3.1' b'1.5' b'0.1' b'Iris-setosa']\n",
      " [b'5.4' b'3.7' b'1.5' b'0.2' b'Iris-setosa']\n",
      " [b'4.8' b'3.4' b'1.6' b'0.2' b'Iris-setosa']\n",
      " [b'4.8' b'3.0' b'1.4' b'0.1' b'Iris-setosa']\n",
      " [b'4.3' b'3.0' b'1.1' b'0.1' b'Iris-setosa']\n",
      " [b'5.8' b'4.0' b'1.2' b'0.2' b'Iris-setosa']\n",
      " [b'5.7' b'4.4' b'1.5' b'0.4' b'Iris-setosa']\n",
      " [b'5.4' b'3.9' b'1.3' b'0.4' b'Iris-setosa']\n",
      " [b'5.1' b'3.5' b'1.4' b'0.3' b'Iris-setosa']\n",
      " [b'5.7' b'3.8' b'1.7' b'0.3' b'Iris-setosa']\n",
      " [b'5.1' b'3.8' b'1.5' b'0.3' b'Iris-setosa']\n",
      " [b'5.4' b'3.4' b'1.7' b'0.2' b'Iris-setosa']\n",
      " [b'5.1' b'3.7' b'1.5' b'0.4' b'Iris-setosa']\n",
      " [b'4.6' b'3.6' b'1.0' b'0.2' b'Iris-setosa']\n",
      " [b'5.1' b'3.3' b'1.7' b'0.5' b'Iris-setosa']\n",
      " [b'4.8' b'3.4' b'1.9' b'0.2' b'Iris-setosa']\n",
      " [b'5.0' b'3.0' b'1.6' b'0.2' b'Iris-setosa']\n",
      " [b'5.0' b'3.4' b'1.6' b'0.4' b'Iris-setosa']\n",
      " [b'5.2' b'3.5' b'1.5' b'0.2' b'Iris-setosa']\n",
      " [b'5.2' b'3.4' b'1.4' b'0.2' b'Iris-setosa']\n",
      " [b'4.7' b'3.2' b'1.6' b'0.2' b'Iris-setosa']\n",
      " [b'4.8' b'3.1' b'1.6' b'0.2' b'Iris-setosa']\n",
      " [b'5.4' b'3.4' b'1.5' b'0.4' b'Iris-setosa']\n",
      " [b'5.2' b'4.1' b'1.5' b'0.1' b'Iris-setosa']\n",
      " [b'5.5' b'4.2' b'1.4' b'0.2' b'Iris-setosa']\n",
      " [b'4.9' b'3.1' b'1.5' b'0.1' b'Iris-setosa']\n",
      " [b'5.0' b'3.2' b'1.2' b'0.2' b'Iris-setosa']\n",
      " [b'5.5' b'3.5' b'1.3' b'0.2' b'Iris-setosa']\n",
      " [b'4.9' b'3.1' b'1.5' b'0.1' b'Iris-setosa']\n",
      " [b'4.4' b'3.0' b'1.3' b'0.2' b'Iris-setosa']\n",
      " [b'5.1' b'3.4' b'1.5' b'0.2' b'Iris-setosa']\n",
      " [b'5.0' b'3.5' b'1.3' b'0.3' b'Iris-setosa']\n",
      " [b'4.5' b'2.3' b'1.3' b'0.3' b'Iris-setosa']\n",
      " [b'4.4' b'3.2' b'1.3' b'0.2' b'Iris-setosa']\n",
      " [b'5.0' b'3.5' b'1.6' b'0.6' b'Iris-setosa']\n",
      " [b'5.1' b'3.8' b'1.9' b'0.4' b'Iris-setosa']\n",
      " [b'4.8' b'3.0' b'1.4' b'0.3' b'Iris-setosa']\n",
      " [b'5.1' b'3.8' b'1.6' b'0.2' b'Iris-setosa']\n",
      " [b'4.6' b'3.2' b'1.4' b'0.2' b'Iris-setosa']\n",
      " [b'5.3' b'3.7' b'1.5' b'0.2' b'Iris-setosa']\n",
      " [b'5.0' b'3.3' b'1.4' b'0.2' b'Iris-setosa']\n",
      " [b'7.0' b'3.2' b'4.7' b'1.4' b'Iris-versicolor']\n",
      " [b'6.4' b'3.2' b'4.5' b'1.5' b'Iris-versicolor']\n",
      " [b'6.9' b'3.1' b'4.9' b'1.5' b'Iris-versicolor']\n",
      " [b'5.5' b'2.3' b'4.0' b'1.3' b'Iris-versicolor']\n",
      " [b'6.5' b'2.8' b'4.6' b'1.5' b'Iris-versicolor']\n",
      " [b'5.7' b'2.8' b'4.5' b'1.3' b'Iris-versicolor']\n",
      " [b'6.3' b'3.3' b'4.7' b'1.6' b'Iris-versicolor']\n",
      " [b'4.9' b'2.4' b'3.3' b'1.0' b'Iris-versicolor']\n",
      " [b'6.6' b'2.9' b'4.6' b'1.3' b'Iris-versicolor']\n",
      " [b'5.2' b'2.7' b'3.9' b'1.4' b'Iris-versicolor']\n",
      " [b'5.0' b'2.0' b'3.5' b'1.0' b'Iris-versicolor']\n",
      " [b'5.9' b'3.0' b'4.2' b'1.5' b'Iris-versicolor']\n",
      " [b'6.0' b'2.2' b'4.0' b'1.0' b'Iris-versicolor']\n",
      " [b'6.1' b'2.9' b'4.7' b'1.4' b'Iris-versicolor']\n",
      " [b'5.6' b'2.9' b'3.6' b'1.3' b'Iris-versicolor']\n",
      " [b'6.7' b'3.1' b'4.4' b'1.4' b'Iris-versicolor']\n",
      " [b'5.6' b'3.0' b'4.5' b'1.5' b'Iris-versicolor']\n",
      " [b'5.8' b'2.7' b'4.1' b'1.0' b'Iris-versicolor']\n",
      " [b'6.2' b'2.2' b'4.5' b'1.5' b'Iris-versicolor']\n",
      " [b'5.6' b'2.5' b'3.9' b'1.1' b'Iris-versicolor']\n",
      " [b'5.9' b'3.2' b'4.8' b'1.8' b'Iris-versicolor']\n",
      " [b'6.1' b'2.8' b'4.0' b'1.3' b'Iris-versicolor']\n",
      " [b'6.3' b'2.5' b'4.9' b'1.5' b'Iris-versicolor']\n",
      " [b'6.1' b'2.8' b'4.7' b'1.2' b'Iris-versicolor']\n",
      " [b'6.4' b'2.9' b'4.3' b'1.3' b'Iris-versicolor']\n",
      " [b'6.6' b'3.0' b'4.4' b'1.4' b'Iris-versicolor']\n",
      " [b'6.8' b'2.8' b'4.8' b'1.4' b'Iris-versicolor']\n",
      " [b'6.7' b'3.0' b'5.0' b'1.7' b'Iris-versicolor']\n",
      " [b'6.0' b'2.9' b'4.5' b'1.5' b'Iris-versicolor']\n",
      " [b'5.7' b'2.6' b'3.5' b'1.0' b'Iris-versicolor']\n",
      " [b'5.5' b'2.4' b'3.8' b'1.1' b'Iris-versicolor']\n",
      " [b'5.5' b'2.4' b'3.7' b'1.0' b'Iris-versicolor']\n",
      " [b'5.8' b'2.7' b'3.9' b'1.2' b'Iris-versicolor']\n",
      " [b'6.0' b'2.7' b'5.1' b'1.6' b'Iris-versicolor']\n",
      " [b'5.4' b'3.0' b'4.5' b'1.5' b'Iris-versicolor']\n",
      " [b'6.0' b'3.4' b'4.5' b'1.6' b'Iris-versicolor']\n",
      " [b'6.7' b'3.1' b'4.7' b'1.5' b'Iris-versicolor']\n",
      " [b'6.3' b'2.3' b'4.4' b'1.3' b'Iris-versicolor']\n",
      " [b'5.6' b'3.0' b'4.1' b'1.3' b'Iris-versicolor']\n",
      " [b'5.5' b'2.5' b'4.0' b'1.3' b'Iris-versicolor']\n",
      " [b'5.5' b'2.6' b'4.4' b'1.2' b'Iris-versicolor']\n",
      " [b'6.1' b'3.0' b'4.6' b'1.4' b'Iris-versicolor']\n",
      " [b'5.8' b'2.6' b'4.0' b'1.2' b'Iris-versicolor']\n",
      " [b'5.0' b'2.3' b'3.3' b'1.0' b'Iris-versicolor']\n",
      " [b'5.6' b'2.7' b'4.2' b'1.3' b'Iris-versicolor']\n",
      " [b'5.7' b'3.0' b'4.2' b'1.2' b'Iris-versicolor']\n",
      " [b'5.7' b'2.9' b'4.2' b'1.3' b'Iris-versicolor']\n",
      " [b'6.2' b'2.9' b'4.3' b'1.3' b'Iris-versicolor']\n",
      " [b'5.1' b'2.5' b'3.0' b'1.1' b'Iris-versicolor']\n",
      " [b'5.7' b'2.8' b'4.1' b'1.3' b'Iris-versicolor']\n",
      " [b'6.3' b'3.3' b'6.0' b'2.5' b'Iris-virginica']\n",
      " [b'5.8' b'2.7' b'5.1' b'1.9' b'Iris-virginica']\n",
      " [b'7.1' b'3.0' b'5.9' b'2.1' b'Iris-virginica']\n",
      " [b'6.3' b'2.9' b'5.6' b'1.8' b'Iris-virginica']\n",
      " [b'6.5' b'3.0' b'5.8' b'2.2' b'Iris-virginica']\n",
      " [b'7.6' b'3.0' b'6.6' b'2.1' b'Iris-virginica']\n",
      " [b'4.9' b'2.5' b'4.5' b'1.7' b'Iris-virginica']\n",
      " [b'7.3' b'2.9' b'6.3' b'1.8' b'Iris-virginica']\n",
      " [b'6.7' b'2.5' b'5.8' b'1.8' b'Iris-virginica']\n",
      " [b'7.2' b'3.6' b'6.1' b'2.5' b'Iris-virginica']\n",
      " [b'6.5' b'3.2' b'5.1' b'2.0' b'Iris-virginica']\n",
      " [b'6.4' b'2.7' b'5.3' b'1.9' b'Iris-virginica']\n",
      " [b'6.8' b'3.0' b'5.5' b'2.1' b'Iris-virginica']\n",
      " [b'5.7' b'2.5' b'5.0' b'2.0' b'Iris-virginica']\n",
      " [b'5.8' b'2.8' b'5.1' b'2.4' b'Iris-virginica']\n",
      " [b'6.4' b'3.2' b'5.3' b'2.3' b'Iris-virginica']\n",
      " [b'6.5' b'3.0' b'5.5' b'1.8' b'Iris-virginica']\n",
      " [b'7.7' b'3.8' b'6.7' b'2.2' b'Iris-virginica']\n",
      " [b'7.7' b'2.6' b'6.9' b'2.3' b'Iris-virginica']\n",
      " [b'6.0' b'2.2' b'5.0' b'1.5' b'Iris-virginica']\n",
      " [b'6.9' b'3.2' b'5.7' b'2.3' b'Iris-virginica']\n",
      " [b'5.6' b'2.8' b'4.9' b'2.0' b'Iris-virginica']\n",
      " [b'7.7' b'2.8' b'6.7' b'2.0' b'Iris-virginica']\n",
      " [b'6.3' b'2.7' b'4.9' b'1.8' b'Iris-virginica']\n",
      " [b'6.7' b'3.3' b'5.7' b'2.1' b'Iris-virginica']\n",
      " [b'7.2' b'3.2' b'6.0' b'1.8' b'Iris-virginica']\n",
      " [b'6.2' b'2.8' b'4.8' b'1.8' b'Iris-virginica']\n",
      " [b'6.1' b'3.0' b'4.9' b'1.8' b'Iris-virginica']\n",
      " [b'6.4' b'2.8' b'5.6' b'2.1' b'Iris-virginica']\n",
      " [b'7.2' b'3.0' b'5.8' b'1.6' b'Iris-virginica']\n",
      " [b'7.4' b'2.8' b'6.1' b'1.9' b'Iris-virginica']\n",
      " [b'7.9' b'3.8' b'6.4' b'2.0' b'Iris-virginica']\n",
      " [b'6.4' b'2.8' b'5.6' b'2.2' b'Iris-virginica']\n",
      " [b'6.3' b'2.8' b'5.1' b'1.5' b'Iris-virginica']\n",
      " [b'6.1' b'2.6' b'5.6' b'1.4' b'Iris-virginica']\n",
      " [b'7.7' b'3.0' b'6.1' b'2.3' b'Iris-virginica']\n",
      " [b'6.3' b'3.4' b'5.6' b'2.4' b'Iris-virginica']\n",
      " [b'6.4' b'3.1' b'5.5' b'1.8' b'Iris-virginica']\n",
      " [b'6.0' b'3.0' b'4.8' b'1.8' b'Iris-virginica']\n",
      " [b'6.9' b'3.1' b'5.4' b'2.1' b'Iris-virginica']\n",
      " [b'6.7' b'3.1' b'5.6' b'2.4' b'Iris-virginica']\n",
      " [b'6.9' b'3.1' b'5.1' b'2.3' b'Iris-virginica']\n",
      " [b'5.8' b'2.7' b'5.1' b'1.9' b'Iris-virginica']\n",
      " [b'6.8' b'3.2' b'5.9' b'2.3' b'Iris-virginica']\n",
      " [b'6.7' b'3.3' b'5.7' b'2.5' b'Iris-virginica']\n",
      " [b'6.7' b'3.0' b'5.2' b'2.3' b'Iris-virginica']\n",
      " [b'6.3' b'2.5' b'5.0' b'1.9' b'Iris-virginica']\n",
      " [b'6.5' b'3.0' b'5.2' b'2.0' b'Iris-virginica']\n",
      " [b'6.2' b'3.4' b'5.4' b'2.3' b'Iris-virginica']\n",
      " [b'5.9' b'3.0' b'5.1' b'1.8' b'Iris-virginica']]\n"
     ]
    }
   ],
   "source": [
    "print(iris)"
   ]
  },
  {
   "cell_type": "code",
   "execution_count": 161,
   "metadata": {},
   "outputs": [
    {
     "name": "stdout",
     "output_type": "stream",
     "text": [
      "[[b'5.1' b'3.5' b'1.4' b'0.2' b'Iris-setosa']\n",
      " [b'4.9' b'3.0' b'1.4' b'0.2' b'Iris-setosa']\n",
      " [b'4.7' b'3.2' b'1.3' b'0.2' b'Iris-setosa']\n",
      " [b'4.6' b'3.1' b'1.5' b'0.2' b'Iris-setosa']\n",
      " [b'5.0' b'3.6' b'1.4' b'0.2' b'Iris-setosa']\n",
      " [b'5.4' b'3.9' b'1.7' b'0.4' b'Iris-setosa']\n",
      " [b'4.6' b'3.4' b'1.4' b'0.3' b'Iris-setosa']\n",
      " [b'5.0' b'3.4' b'1.5' b'0.2' b'Iris-setosa']\n",
      " [b'4.4' b'2.9' b'1.4' b'0.2' b'Iris-setosa']\n",
      " [b'4.9' b'3.1' b'1.5' b'0.1' b'Iris-setosa']]\n"
     ]
    }
   ],
   "source": [
    "print(iris[:10])"
   ]
  },
  {
   "cell_type": "code",
   "execution_count": 162,
   "metadata": {},
   "outputs": [
    {
     "name": "stdout",
     "output_type": "stream",
     "text": [
      "[b'Iris-setosa' b'Iris-setosa' b'Iris-setosa' b'Iris-setosa'\n",
      " b'Iris-setosa' b'Iris-setosa' b'Iris-setosa' b'Iris-setosa'\n",
      " b'Iris-setosa' b'Iris-setosa' b'Iris-setosa' b'Iris-setosa'\n",
      " b'Iris-setosa' b'Iris-setosa' b'Iris-setosa' b'Iris-setosa'\n",
      " b'Iris-setosa' b'Iris-setosa' b'Iris-setosa' b'Iris-setosa'\n",
      " b'Iris-setosa' b'Iris-setosa' b'Iris-setosa' b'Iris-setosa'\n",
      " b'Iris-setosa' b'Iris-setosa' b'Iris-setosa' b'Iris-setosa'\n",
      " b'Iris-setosa' b'Iris-setosa' b'Iris-setosa' b'Iris-setosa'\n",
      " b'Iris-setosa' b'Iris-setosa' b'Iris-setosa' b'Iris-setosa'\n",
      " b'Iris-setosa' b'Iris-setosa' b'Iris-setosa' b'Iris-setosa'\n",
      " b'Iris-setosa' b'Iris-setosa' b'Iris-setosa' b'Iris-setosa'\n",
      " b'Iris-setosa' b'Iris-setosa' b'Iris-setosa' b'Iris-setosa'\n",
      " b'Iris-setosa' b'Iris-setosa' b'Iris-versicolor' b'Iris-versicolor'\n",
      " b'Iris-versicolor' b'Iris-versicolor' b'Iris-versicolor'\n",
      " b'Iris-versicolor' b'Iris-versicolor' b'Iris-versicolor'\n",
      " b'Iris-versicolor' b'Iris-versicolor' b'Iris-versicolor'\n",
      " b'Iris-versicolor' b'Iris-versicolor' b'Iris-versicolor'\n",
      " b'Iris-versicolor' b'Iris-versicolor' b'Iris-versicolor'\n",
      " b'Iris-versicolor' b'Iris-versicolor' b'Iris-versicolor'\n",
      " b'Iris-versicolor' b'Iris-versicolor' b'Iris-versicolor'\n",
      " b'Iris-versicolor' b'Iris-versicolor' b'Iris-versicolor'\n",
      " b'Iris-versicolor' b'Iris-versicolor' b'Iris-versicolor'\n",
      " b'Iris-versicolor' b'Iris-versicolor' b'Iris-versicolor'\n",
      " b'Iris-versicolor' b'Iris-versicolor' b'Iris-versicolor'\n",
      " b'Iris-versicolor' b'Iris-versicolor' b'Iris-versicolor'\n",
      " b'Iris-versicolor' b'Iris-versicolor' b'Iris-versicolor'\n",
      " b'Iris-versicolor' b'Iris-versicolor' b'Iris-versicolor'\n",
      " b'Iris-versicolor' b'Iris-versicolor' b'Iris-versicolor'\n",
      " b'Iris-versicolor' b'Iris-versicolor' b'Iris-versicolor'\n",
      " b'Iris-virginica' b'Iris-virginica' b'Iris-virginica' b'Iris-virginica'\n",
      " b'Iris-virginica' b'Iris-virginica' b'Iris-virginica' b'Iris-virginica'\n",
      " b'Iris-virginica' b'Iris-virginica' b'Iris-virginica' b'Iris-virginica'\n",
      " b'Iris-virginica' b'Iris-virginica' b'Iris-virginica' b'Iris-virginica'\n",
      " b'Iris-virginica' b'Iris-virginica' b'Iris-virginica' b'Iris-virginica'\n",
      " b'Iris-virginica' b'Iris-virginica' b'Iris-virginica' b'Iris-virginica'\n",
      " b'Iris-virginica' b'Iris-virginica' b'Iris-virginica' b'Iris-virginica'\n",
      " b'Iris-virginica' b'Iris-virginica' b'Iris-virginica' b'Iris-virginica'\n",
      " b'Iris-virginica' b'Iris-virginica' b'Iris-virginica' b'Iris-virginica'\n",
      " b'Iris-virginica' b'Iris-virginica' b'Iris-virginica' b'Iris-virginica'\n",
      " b'Iris-virginica' b'Iris-virginica' b'Iris-virginica' b'Iris-virginica'\n",
      " b'Iris-virginica' b'Iris-virginica' b'Iris-virginica' b'Iris-virginica'\n",
      " b'Iris-virginica' b'Iris-virginica']\n"
     ]
    }
   ],
   "source": [
    "print(iris[:,-1])"
   ]
  },
  {
   "cell_type": "code",
   "execution_count": 163,
   "metadata": {},
   "outputs": [
    {
     "data": {
      "text/plain": [
       "array([[b'5.1', b'3.5', b'1.4', b'0.2'],\n",
       "       [b'4.9', b'3.0', b'1.4', b'0.2'],\n",
       "       [b'4.7', b'3.2', b'1.3', b'0.2'],\n",
       "       [b'4.6', b'3.1', b'1.5', b'0.2'],\n",
       "       [b'5.0', b'3.6', b'1.4', b'0.2'],\n",
       "       [b'5.4', b'3.9', b'1.7', b'0.4'],\n",
       "       [b'4.6', b'3.4', b'1.4', b'0.3'],\n",
       "       [b'5.0', b'3.4', b'1.5', b'0.2'],\n",
       "       [b'4.4', b'2.9', b'1.4', b'0.2'],\n",
       "       [b'4.9', b'3.1', b'1.5', b'0.1'],\n",
       "       [b'5.4', b'3.7', b'1.5', b'0.2'],\n",
       "       [b'4.8', b'3.4', b'1.6', b'0.2'],\n",
       "       [b'4.8', b'3.0', b'1.4', b'0.1'],\n",
       "       [b'4.3', b'3.0', b'1.1', b'0.1'],\n",
       "       [b'5.8', b'4.0', b'1.2', b'0.2'],\n",
       "       [b'5.7', b'4.4', b'1.5', b'0.4'],\n",
       "       [b'5.4', b'3.9', b'1.3', b'0.4'],\n",
       "       [b'5.1', b'3.5', b'1.4', b'0.3'],\n",
       "       [b'5.7', b'3.8', b'1.7', b'0.3'],\n",
       "       [b'5.1', b'3.8', b'1.5', b'0.3'],\n",
       "       [b'5.4', b'3.4', b'1.7', b'0.2'],\n",
       "       [b'5.1', b'3.7', b'1.5', b'0.4'],\n",
       "       [b'4.6', b'3.6', b'1.0', b'0.2'],\n",
       "       [b'5.1', b'3.3', b'1.7', b'0.5'],\n",
       "       [b'4.8', b'3.4', b'1.9', b'0.2'],\n",
       "       [b'5.0', b'3.0', b'1.6', b'0.2'],\n",
       "       [b'5.0', b'3.4', b'1.6', b'0.4'],\n",
       "       [b'5.2', b'3.5', b'1.5', b'0.2'],\n",
       "       [b'5.2', b'3.4', b'1.4', b'0.2'],\n",
       "       [b'4.7', b'3.2', b'1.6', b'0.2'],\n",
       "       [b'4.8', b'3.1', b'1.6', b'0.2'],\n",
       "       [b'5.4', b'3.4', b'1.5', b'0.4'],\n",
       "       [b'5.2', b'4.1', b'1.5', b'0.1'],\n",
       "       [b'5.5', b'4.2', b'1.4', b'0.2'],\n",
       "       [b'4.9', b'3.1', b'1.5', b'0.1'],\n",
       "       [b'5.0', b'3.2', b'1.2', b'0.2'],\n",
       "       [b'5.5', b'3.5', b'1.3', b'0.2'],\n",
       "       [b'4.9', b'3.1', b'1.5', b'0.1'],\n",
       "       [b'4.4', b'3.0', b'1.3', b'0.2'],\n",
       "       [b'5.1', b'3.4', b'1.5', b'0.2'],\n",
       "       [b'5.0', b'3.5', b'1.3', b'0.3'],\n",
       "       [b'4.5', b'2.3', b'1.3', b'0.3'],\n",
       "       [b'4.4', b'3.2', b'1.3', b'0.2'],\n",
       "       [b'5.0', b'3.5', b'1.6', b'0.6'],\n",
       "       [b'5.1', b'3.8', b'1.9', b'0.4'],\n",
       "       [b'4.8', b'3.0', b'1.4', b'0.3'],\n",
       "       [b'5.1', b'3.8', b'1.6', b'0.2'],\n",
       "       [b'4.6', b'3.2', b'1.4', b'0.2'],\n",
       "       [b'5.3', b'3.7', b'1.5', b'0.2'],\n",
       "       [b'5.0', b'3.3', b'1.4', b'0.2'],\n",
       "       [b'7.0', b'3.2', b'4.7', b'1.4'],\n",
       "       [b'6.4', b'3.2', b'4.5', b'1.5'],\n",
       "       [b'6.9', b'3.1', b'4.9', b'1.5'],\n",
       "       [b'5.5', b'2.3', b'4.0', b'1.3'],\n",
       "       [b'6.5', b'2.8', b'4.6', b'1.5'],\n",
       "       [b'5.7', b'2.8', b'4.5', b'1.3'],\n",
       "       [b'6.3', b'3.3', b'4.7', b'1.6'],\n",
       "       [b'4.9', b'2.4', b'3.3', b'1.0'],\n",
       "       [b'6.6', b'2.9', b'4.6', b'1.3'],\n",
       "       [b'5.2', b'2.7', b'3.9', b'1.4'],\n",
       "       [b'5.0', b'2.0', b'3.5', b'1.0'],\n",
       "       [b'5.9', b'3.0', b'4.2', b'1.5'],\n",
       "       [b'6.0', b'2.2', b'4.0', b'1.0'],\n",
       "       [b'6.1', b'2.9', b'4.7', b'1.4'],\n",
       "       [b'5.6', b'2.9', b'3.6', b'1.3'],\n",
       "       [b'6.7', b'3.1', b'4.4', b'1.4'],\n",
       "       [b'5.6', b'3.0', b'4.5', b'1.5'],\n",
       "       [b'5.8', b'2.7', b'4.1', b'1.0'],\n",
       "       [b'6.2', b'2.2', b'4.5', b'1.5'],\n",
       "       [b'5.6', b'2.5', b'3.9', b'1.1'],\n",
       "       [b'5.9', b'3.2', b'4.8', b'1.8'],\n",
       "       [b'6.1', b'2.8', b'4.0', b'1.3'],\n",
       "       [b'6.3', b'2.5', b'4.9', b'1.5'],\n",
       "       [b'6.1', b'2.8', b'4.7', b'1.2'],\n",
       "       [b'6.4', b'2.9', b'4.3', b'1.3'],\n",
       "       [b'6.6', b'3.0', b'4.4', b'1.4'],\n",
       "       [b'6.8', b'2.8', b'4.8', b'1.4'],\n",
       "       [b'6.7', b'3.0', b'5.0', b'1.7'],\n",
       "       [b'6.0', b'2.9', b'4.5', b'1.5'],\n",
       "       [b'5.7', b'2.6', b'3.5', b'1.0'],\n",
       "       [b'5.5', b'2.4', b'3.8', b'1.1'],\n",
       "       [b'5.5', b'2.4', b'3.7', b'1.0'],\n",
       "       [b'5.8', b'2.7', b'3.9', b'1.2'],\n",
       "       [b'6.0', b'2.7', b'5.1', b'1.6'],\n",
       "       [b'5.4', b'3.0', b'4.5', b'1.5'],\n",
       "       [b'6.0', b'3.4', b'4.5', b'1.6'],\n",
       "       [b'6.7', b'3.1', b'4.7', b'1.5'],\n",
       "       [b'6.3', b'2.3', b'4.4', b'1.3'],\n",
       "       [b'5.6', b'3.0', b'4.1', b'1.3'],\n",
       "       [b'5.5', b'2.5', b'4.0', b'1.3'],\n",
       "       [b'5.5', b'2.6', b'4.4', b'1.2'],\n",
       "       [b'6.1', b'3.0', b'4.6', b'1.4'],\n",
       "       [b'5.8', b'2.6', b'4.0', b'1.2'],\n",
       "       [b'5.0', b'2.3', b'3.3', b'1.0'],\n",
       "       [b'5.6', b'2.7', b'4.2', b'1.3'],\n",
       "       [b'5.7', b'3.0', b'4.2', b'1.2'],\n",
       "       [b'5.7', b'2.9', b'4.2', b'1.3'],\n",
       "       [b'6.2', b'2.9', b'4.3', b'1.3'],\n",
       "       [b'5.1', b'2.5', b'3.0', b'1.1'],\n",
       "       [b'5.7', b'2.8', b'4.1', b'1.3'],\n",
       "       [b'6.3', b'3.3', b'6.0', b'2.5'],\n",
       "       [b'5.8', b'2.7', b'5.1', b'1.9'],\n",
       "       [b'7.1', b'3.0', b'5.9', b'2.1'],\n",
       "       [b'6.3', b'2.9', b'5.6', b'1.8'],\n",
       "       [b'6.5', b'3.0', b'5.8', b'2.2'],\n",
       "       [b'7.6', b'3.0', b'6.6', b'2.1'],\n",
       "       [b'4.9', b'2.5', b'4.5', b'1.7'],\n",
       "       [b'7.3', b'2.9', b'6.3', b'1.8'],\n",
       "       [b'6.7', b'2.5', b'5.8', b'1.8'],\n",
       "       [b'7.2', b'3.6', b'6.1', b'2.5'],\n",
       "       [b'6.5', b'3.2', b'5.1', b'2.0'],\n",
       "       [b'6.4', b'2.7', b'5.3', b'1.9'],\n",
       "       [b'6.8', b'3.0', b'5.5', b'2.1'],\n",
       "       [b'5.7', b'2.5', b'5.0', b'2.0'],\n",
       "       [b'5.8', b'2.8', b'5.1', b'2.4'],\n",
       "       [b'6.4', b'3.2', b'5.3', b'2.3'],\n",
       "       [b'6.5', b'3.0', b'5.5', b'1.8'],\n",
       "       [b'7.7', b'3.8', b'6.7', b'2.2'],\n",
       "       [b'7.7', b'2.6', b'6.9', b'2.3'],\n",
       "       [b'6.0', b'2.2', b'5.0', b'1.5'],\n",
       "       [b'6.9', b'3.2', b'5.7', b'2.3'],\n",
       "       [b'5.6', b'2.8', b'4.9', b'2.0'],\n",
       "       [b'7.7', b'2.8', b'6.7', b'2.0'],\n",
       "       [b'6.3', b'2.7', b'4.9', b'1.8'],\n",
       "       [b'6.7', b'3.3', b'5.7', b'2.1'],\n",
       "       [b'7.2', b'3.2', b'6.0', b'1.8'],\n",
       "       [b'6.2', b'2.8', b'4.8', b'1.8'],\n",
       "       [b'6.1', b'3.0', b'4.9', b'1.8'],\n",
       "       [b'6.4', b'2.8', b'5.6', b'2.1'],\n",
       "       [b'7.2', b'3.0', b'5.8', b'1.6'],\n",
       "       [b'7.4', b'2.8', b'6.1', b'1.9'],\n",
       "       [b'7.9', b'3.8', b'6.4', b'2.0'],\n",
       "       [b'6.4', b'2.8', b'5.6', b'2.2'],\n",
       "       [b'6.3', b'2.8', b'5.1', b'1.5'],\n",
       "       [b'6.1', b'2.6', b'5.6', b'1.4'],\n",
       "       [b'7.7', b'3.0', b'6.1', b'2.3'],\n",
       "       [b'6.3', b'3.4', b'5.6', b'2.4'],\n",
       "       [b'6.4', b'3.1', b'5.5', b'1.8'],\n",
       "       [b'6.0', b'3.0', b'4.8', b'1.8'],\n",
       "       [b'6.9', b'3.1', b'5.4', b'2.1'],\n",
       "       [b'6.7', b'3.1', b'5.6', b'2.4'],\n",
       "       [b'6.9', b'3.1', b'5.1', b'2.3'],\n",
       "       [b'5.8', b'2.7', b'5.1', b'1.9'],\n",
       "       [b'6.8', b'3.2', b'5.9', b'2.3'],\n",
       "       [b'6.7', b'3.3', b'5.7', b'2.5'],\n",
       "       [b'6.7', b'3.0', b'5.2', b'2.3'],\n",
       "       [b'6.3', b'2.5', b'5.0', b'1.9'],\n",
       "       [b'6.5', b'3.0', b'5.2', b'2.0'],\n",
       "       [b'6.2', b'3.4', b'5.4', b'2.3'],\n",
       "       [b'5.9', b'3.0', b'5.1', b'1.8']], dtype=object)"
      ]
     },
     "execution_count": 163,
     "metadata": {},
     "output_type": "execute_result"
    }
   ],
   "source": [
    "iris_data =  np.genfromtxt(url, delimiter = ',', dtype='object', usecols = [0,1,2,3])\n",
    "iris_data"
   ]
  },
  {
   "cell_type": "code",
   "execution_count": 164,
   "metadata": {},
   "outputs": [
    {
     "data": {
      "text/plain": [
       "False"
      ]
     },
     "execution_count": 164,
     "metadata": {},
     "output_type": "execute_result"
    }
   ],
   "source": [
    "np.shares_memory(iris, iris_data)"
   ]
  },
  {
   "cell_type": "code",
   "execution_count": 165,
   "metadata": {},
   "outputs": [
    {
     "data": {
      "text/plain": [
       "True"
      ]
     },
     "execution_count": 165,
     "metadata": {},
     "output_type": "execute_result"
    }
   ],
   "source": [
    "species = iris[:,-1]\n",
    "np.shares_memory(iris, species)"
   ]
  },
  {
   "cell_type": "code",
   "execution_count": 178,
   "metadata": {},
   "outputs": [
    {
     "data": {
      "text/plain": [
       "array([3.5, 3. , 3.2, 3.1, 3.6, 3.9, 3.4, 3.4, 2.9, 3.1, 3.7, 3.4, 3. ,\n",
       "       3. , 4. , 4.4, 3.9, 3.5, 3.8, 3.8, 3.4, 3.7, 3.6, 3.3, 3.4, 3. ,\n",
       "       3.4, 3.5, 3.4, 3.2, 3.1, 3.4, 4.1, 4.2, 3.1, 3.2, 3.5, 3.1, 3. ,\n",
       "       3.4, 3.5, 2.3, 3.2, 3.5, 3.8, 3. , 3.8, 3.2, 3.7, 3.3, 3.2, 3.2,\n",
       "       3.1, 2.3, 2.8, 2.8, 3.3, 2.4, 2.9, 2.7, 2. , 3. , 2.2, 2.9, 2.9,\n",
       "       3.1, 3. , 2.7, 2.2, 2.5, 3.2, 2.8, 2.5, 2.8, 2.9, 3. , 2.8, 3. ,\n",
       "       2.9, 2.6, 2.4, 2.4, 2.7, 2.7, 3. , 3.4, 3.1, 2.3, 3. , 2.5, 2.6,\n",
       "       3. , 2.6, 2.3, 2.7, 3. , 2.9, 2.9, 2.5, 2.8, 3.3, 2.7, 3. , 2.9,\n",
       "       3. , 3. , 2.5, 2.9, 2.5, 3.6, 3.2, 2.7, 3. , 2.5, 2.8, 3.2, 3. ,\n",
       "       3.8, 2.6, 2.2, 3.2, 2.8, 2.8, 2.7, 3.3, 3.2, 2.8, 3. , 2.8, 3. ,\n",
       "       2.8, 3.8, 2.8, 2.8, 2.6, 3. , 3.4, 3.1, 3. , 3.1, 3.1, 3.1, 2.7,\n",
       "       3.2, 3.3, 3. , 2.5, 3. , 3.4, 3. ])"
      ]
     },
     "execution_count": 178,
     "metadata": {},
     "output_type": "execute_result"
    }
   ],
   "source": [
    "iris_sep_width =  np.genfromtxt(url, delimiter = ',', dtype='float', usecols = [1])\n",
    "iris_sep_width"
   ]
  },
  {
   "cell_type": "code",
   "execution_count": 179,
   "metadata": {},
   "outputs": [
    {
     "name": "stdout",
     "output_type": "stream",
     "text": [
      "3.0540000000000003\n"
     ]
    }
   ],
   "source": [
    "print(np.mean(iris_sep_width))"
   ]
  },
  {
   "cell_type": "code",
   "execution_count": 180,
   "metadata": {},
   "outputs": [
    {
     "name": "stdout",
     "output_type": "stream",
     "text": [
      "0.4321465800705435\n",
      "4.4\n",
      "2.0\n",
      "3.0\n"
     ]
    }
   ],
   "source": [
    "print(np.std(iris_sep_width))\n",
    "print(np.max(iris_sep_width))\n",
    "print(np.min(iris_sep_width))\n",
    "print(np.median(iris_sep_width))"
   ]
  },
  {
   "cell_type": "code",
   "execution_count": 181,
   "metadata": {},
   "outputs": [],
   "source": [
    "# Standardization\n",
    "# (x - mean)/std  --- used in PCA\n",
    "\n",
    "#Normalization\n",
    "# (x - x_min)/(x_max - x_min)\n",
    "# range : 0 to 1\n"
   ]
  },
  {
   "cell_type": "code",
   "execution_count": 182,
   "metadata": {},
   "outputs": [],
   "source": [
    "# Box-Cox Transformation - transforming non - normal distribution to normal distribution"
   ]
  },
  {
   "cell_type": "code",
   "execution_count": 183,
   "metadata": {},
   "outputs": [
    {
     "name": "stdout",
     "output_type": "stream",
     "text": [
      "[0.625      0.41666667 0.5        0.45833333 0.66666667 0.79166667\n",
      " 0.58333333 0.58333333 0.375      0.45833333 0.70833333 0.58333333\n",
      " 0.41666667 0.41666667 0.83333333 1.         0.79166667 0.625\n",
      " 0.75       0.75       0.58333333 0.70833333 0.66666667 0.54166667\n",
      " 0.58333333 0.41666667 0.58333333 0.625      0.58333333 0.5\n",
      " 0.45833333 0.58333333 0.875      0.91666667 0.45833333 0.5\n",
      " 0.625      0.45833333 0.41666667 0.58333333 0.625      0.125\n",
      " 0.5        0.625      0.75       0.41666667 0.75       0.5\n",
      " 0.70833333 0.54166667 0.5        0.5        0.45833333 0.125\n",
      " 0.33333333 0.33333333 0.54166667 0.16666667 0.375      0.29166667\n",
      " 0.         0.41666667 0.08333333 0.375      0.375      0.45833333\n",
      " 0.41666667 0.29166667 0.08333333 0.20833333 0.5        0.33333333\n",
      " 0.20833333 0.33333333 0.375      0.41666667 0.33333333 0.41666667\n",
      " 0.375      0.25       0.16666667 0.16666667 0.29166667 0.29166667\n",
      " 0.41666667 0.58333333 0.45833333 0.125      0.41666667 0.20833333\n",
      " 0.25       0.41666667 0.25       0.125      0.29166667 0.41666667\n",
      " 0.375      0.375      0.20833333 0.33333333 0.54166667 0.29166667\n",
      " 0.41666667 0.375      0.41666667 0.41666667 0.20833333 0.375\n",
      " 0.20833333 0.66666667 0.5        0.29166667 0.41666667 0.20833333\n",
      " 0.33333333 0.5        0.41666667 0.75       0.25       0.08333333\n",
      " 0.5        0.33333333 0.33333333 0.29166667 0.54166667 0.5\n",
      " 0.33333333 0.41666667 0.33333333 0.41666667 0.33333333 0.75\n",
      " 0.33333333 0.33333333 0.25       0.41666667 0.58333333 0.45833333\n",
      " 0.41666667 0.45833333 0.45833333 0.45833333 0.29166667 0.5\n",
      " 0.54166667 0.41666667 0.20833333 0.41666667 0.58333333 0.41666667]\n"
     ]
    }
   ],
   "source": [
    "# normalize sepal width\n",
    "iris_normalize_sep_width = np.zeros(iris_sep_width.shape)\n",
    "for i in range(len(iris_sep_width)) :\n",
    "    iris_normalize_sep_width[i] = ((iris_sep_width[i] - min(iris_sep_width))/(max(iris_sep_width) - min(iris_sep_width)))\n",
    "print(iris_normalize_sep_width)"
   ]
  },
  {
   "cell_type": "code",
   "execution_count": 186,
   "metadata": {},
   "outputs": [
    {
     "name": "stdout",
     "output_type": "stream",
     "text": [
      "[ 1.03205722 -0.1249576   0.33784833  0.10644536  1.26346019  1.95766909\n",
      "  0.80065426  0.80065426 -0.35636057  0.10644536  1.49486315  0.80065426\n",
      " -0.1249576  -0.1249576   2.18907205  3.11468391  1.95766909  1.03205722\n",
      "  1.72626612  1.72626612  0.80065426  1.49486315  1.26346019  0.56925129\n",
      "  0.80065426 -0.1249576   0.80065426  1.03205722  0.80065426  0.33784833\n",
      "  0.10644536  0.80065426  2.42047502  2.65187798  0.10644536  0.33784833\n",
      "  1.03205722  0.10644536 -0.1249576   0.80065426  1.03205722 -1.74477836\n",
      "  0.33784833  1.03205722  1.72626612 -0.1249576   1.72626612  0.33784833\n",
      "  1.49486315  0.56925129  0.33784833  0.33784833  0.10644536 -1.74477836\n",
      " -0.58776353 -0.58776353  0.56925129 -1.51337539 -0.35636057 -0.8191665\n",
      " -2.43898725 -0.1249576  -1.97618132 -0.35636057 -0.35636057  0.10644536\n",
      " -0.1249576  -0.8191665  -1.97618132 -1.28197243  0.33784833 -0.58776353\n",
      " -1.28197243 -0.58776353 -0.35636057 -0.1249576  -0.58776353 -0.1249576\n",
      " -0.35636057 -1.05056946 -1.51337539 -1.51337539 -0.8191665  -0.8191665\n",
      " -0.1249576   0.80065426  0.10644536 -1.74477836 -0.1249576  -1.28197243\n",
      " -1.05056946 -0.1249576  -1.05056946 -1.74477836 -0.8191665  -0.1249576\n",
      " -0.35636057 -0.35636057 -1.28197243 -0.58776353  0.56925129 -0.8191665\n",
      " -0.1249576  -0.35636057 -0.1249576  -0.1249576  -1.28197243 -0.35636057\n",
      " -1.28197243  1.26346019  0.33784833 -0.8191665  -0.1249576  -1.28197243\n",
      " -0.58776353  0.33784833 -0.1249576   1.72626612 -1.05056946 -1.97618132\n",
      "  0.33784833 -0.58776353 -0.58776353 -0.8191665   0.56925129  0.33784833\n",
      " -0.58776353 -0.1249576  -0.58776353 -0.1249576  -0.58776353  1.72626612\n",
      " -0.58776353 -0.58776353 -1.05056946 -0.1249576   0.80065426  0.10644536\n",
      " -0.1249576   0.10644536  0.10644536  0.10644536 -0.8191665   0.33784833\n",
      "  0.56925129 -0.1249576  -1.28197243 -0.1249576   0.80065426 -0.1249576 ]\n"
     ]
    }
   ],
   "source": [
    "iris_standardize_sep_width = np.zeros(iris_sep_width.shape)\n",
    "for i in range(len(iris_sep_width)) :\n",
    "    iris_standardize_sep_width[i] = ((iris_sep_width[i] - np.mean(iris_sep_width))/(np.std(iris_sep_width)))\n",
    "print(iris_standardize_sep_width)\n"
   ]
  },
  {
   "cell_type": "code",
   "execution_count": 187,
   "metadata": {},
   "outputs": [],
   "source": [
    "mean_sp = np.mean(iris_sep_width)"
   ]
  },
  {
   "cell_type": "code",
   "execution_count": 188,
   "metadata": {},
   "outputs": [],
   "source": [
    "std_sep = np.std(iris_sep_width)"
   ]
  },
  {
   "cell_type": "code",
   "execution_count": 190,
   "metadata": {},
   "outputs": [
    {
     "name": "stdout",
     "output_type": "stream",
     "text": [
      "[ 1.03205722 -0.1249576   0.33784833  0.10644536  1.26346019  1.95766909\n",
      "  0.80065426  0.80065426 -0.35636057  0.10644536  1.49486315  0.80065426\n",
      " -0.1249576  -0.1249576   2.18907205  3.11468391  1.95766909  1.03205722\n",
      "  1.72626612  1.72626612  0.80065426  1.49486315  1.26346019  0.56925129\n",
      "  0.80065426 -0.1249576   0.80065426  1.03205722  0.80065426  0.33784833\n",
      "  0.10644536  0.80065426  2.42047502  2.65187798  0.10644536  0.33784833\n",
      "  1.03205722  0.10644536 -0.1249576   0.80065426  1.03205722 -1.74477836\n",
      "  0.33784833  1.03205722  1.72626612 -0.1249576   1.72626612  0.33784833\n",
      "  1.49486315  0.56925129  0.33784833  0.33784833  0.10644536 -1.74477836\n",
      " -0.58776353 -0.58776353  0.56925129 -1.51337539 -0.35636057 -0.8191665\n",
      " -2.43898725 -0.1249576  -1.97618132 -0.35636057 -0.35636057  0.10644536\n",
      " -0.1249576  -0.8191665  -1.97618132 -1.28197243  0.33784833 -0.58776353\n",
      " -1.28197243 -0.58776353 -0.35636057 -0.1249576  -0.58776353 -0.1249576\n",
      " -0.35636057 -1.05056946 -1.51337539 -1.51337539 -0.8191665  -0.8191665\n",
      " -0.1249576   0.80065426  0.10644536 -1.74477836 -0.1249576  -1.28197243\n",
      " -1.05056946 -0.1249576  -1.05056946 -1.74477836 -0.8191665  -0.1249576\n",
      " -0.35636057 -0.35636057 -1.28197243 -0.58776353  0.56925129 -0.8191665\n",
      " -0.1249576  -0.35636057 -0.1249576  -0.1249576  -1.28197243 -0.35636057\n",
      " -1.28197243  1.26346019  0.33784833 -0.8191665  -0.1249576  -1.28197243\n",
      " -0.58776353  0.33784833 -0.1249576   1.72626612 -1.05056946 -1.97618132\n",
      "  0.33784833 -0.58776353 -0.58776353 -0.8191665   0.56925129  0.33784833\n",
      " -0.58776353 -0.1249576  -0.58776353 -0.1249576  -0.58776353  1.72626612\n",
      " -0.58776353 -0.58776353 -1.05056946 -0.1249576   0.80065426  0.10644536\n",
      " -0.1249576   0.10644536  0.10644536  0.10644536 -0.8191665   0.33784833\n",
      "  0.56925129 -0.1249576  -1.28197243 -0.1249576   0.80065426 -0.1249576 ]\n"
     ]
    }
   ],
   "source": [
    "std_sep_width = (iris_sep_width - mean_sp)/std_sep\n",
    "print(std_sep_width)"
   ]
  },
  {
   "cell_type": "code",
   "execution_count": 191,
   "metadata": {},
   "outputs": [
    {
     "data": {
      "text/plain": [
       "-6.631732200427602e-16"
      ]
     },
     "execution_count": 191,
     "metadata": {},
     "output_type": "execute_result"
    }
   ],
   "source": [
    "np.mean(std_sep_width)"
   ]
  },
  {
   "cell_type": "code",
   "execution_count": 192,
   "metadata": {},
   "outputs": [
    {
     "data": {
      "text/plain": [
       "0.9999999999999999"
      ]
     },
     "execution_count": 192,
     "metadata": {},
     "output_type": "execute_result"
    }
   ],
   "source": [
    "np.std(std_sep_width)"
   ]
  },
  {
   "cell_type": "code",
   "execution_count": 194,
   "metadata": {},
   "outputs": [
    {
     "name": "stdout",
     "output_type": "stream",
     "text": [
      "[0.625      0.41666667 0.5        0.45833333 0.66666667 0.79166667\n",
      " 0.58333333 0.58333333 0.375      0.45833333 0.70833333 0.58333333\n",
      " 0.41666667 0.41666667 0.83333333 1.         0.79166667 0.625\n",
      " 0.75       0.75       0.58333333 0.70833333 0.66666667 0.54166667\n",
      " 0.58333333 0.41666667 0.58333333 0.625      0.58333333 0.5\n",
      " 0.45833333 0.58333333 0.875      0.91666667 0.45833333 0.5\n",
      " 0.625      0.45833333 0.41666667 0.58333333 0.625      0.125\n",
      " 0.5        0.625      0.75       0.41666667 0.75       0.5\n",
      " 0.70833333 0.54166667 0.5        0.5        0.45833333 0.125\n",
      " 0.33333333 0.33333333 0.54166667 0.16666667 0.375      0.29166667\n",
      " 0.         0.41666667 0.08333333 0.375      0.375      0.45833333\n",
      " 0.41666667 0.29166667 0.08333333 0.20833333 0.5        0.33333333\n",
      " 0.20833333 0.33333333 0.375      0.41666667 0.33333333 0.41666667\n",
      " 0.375      0.25       0.16666667 0.16666667 0.29166667 0.29166667\n",
      " 0.41666667 0.58333333 0.45833333 0.125      0.41666667 0.20833333\n",
      " 0.25       0.41666667 0.25       0.125      0.29166667 0.41666667\n",
      " 0.375      0.375      0.20833333 0.33333333 0.54166667 0.29166667\n",
      " 0.41666667 0.375      0.41666667 0.41666667 0.20833333 0.375\n",
      " 0.20833333 0.66666667 0.5        0.29166667 0.41666667 0.20833333\n",
      " 0.33333333 0.5        0.41666667 0.75       0.25       0.08333333\n",
      " 0.5        0.33333333 0.33333333 0.29166667 0.54166667 0.5\n",
      " 0.33333333 0.41666667 0.33333333 0.41666667 0.33333333 0.75\n",
      " 0.33333333 0.33333333 0.25       0.41666667 0.58333333 0.45833333\n",
      " 0.41666667 0.45833333 0.45833333 0.45833333 0.29166667 0.5\n",
      " 0.54166667 0.41666667 0.20833333 0.41666667 0.58333333 0.41666667]\n"
     ]
    }
   ],
   "source": [
    "norm_sep_width = (iris_sep_width - min(iris_sep_width)) / (max(iris_sep_width) - min(iris_sep_width))\n",
    "print(norm_sep_width)"
   ]
  },
  {
   "cell_type": "code",
   "execution_count": 196,
   "metadata": {},
   "outputs": [
    {
     "name": "stdout",
     "output_type": "stream",
     "text": [
      "0.43916666666666665\n",
      "0.1800610750293931\n"
     ]
    }
   ],
   "source": [
    "print(np.mean(norm_sep_width))\n",
    "print(np.std(norm_sep_width))"
   ]
  },
  {
   "cell_type": "code",
   "execution_count": 197,
   "metadata": {},
   "outputs": [
    {
     "data": {
      "text/plain": [
       "array([2.345, 3.8  ])"
      ]
     },
     "execution_count": 197,
     "metadata": {},
     "output_type": "execute_result"
    }
   ],
   "source": [
    "np.percentile(iris_sep_width,q = [5, 95])"
   ]
  },
  {
   "cell_type": "code",
   "execution_count": 198,
   "metadata": {},
   "outputs": [
    {
     "data": {
      "text/plain": [
       "array([2.2725, 3.9275])"
      ]
     },
     "execution_count": 198,
     "metadata": {},
     "output_type": "execute_result"
    }
   ],
   "source": [
    "np.percentile(iris_sep_width, q = [2.5, 97.5])"
   ]
  },
  {
   "cell_type": "code",
   "execution_count": 199,
   "metadata": {},
   "outputs": [],
   "source": [
    "#iris_sep_width =  np.genfromtxt(url, delimiter = ',', dtype='float', usecols = [1])\n"
   ]
  },
  {
   "cell_type": "code",
   "execution_count": 200,
   "metadata": {},
   "outputs": [],
   "source": [
    "# Outliers\n",
    "# mue - 3sigma, mu + 3sigma\n",
    "# x < mue - 3sigma, x > mue + 3sigma\n",
    "#x[x < mue - 3sigma or x > mue + 3sigma]"
   ]
  },
  {
   "cell_type": "code",
   "execution_count": null,
   "metadata": {},
   "outputs": [],
   "source": []
  }
 ],
 "metadata": {
  "kernelspec": {
   "display_name": "Python 3",
   "language": "python",
   "name": "python3"
  },
  "language_info": {
   "codemirror_mode": {
    "name": "ipython",
    "version": 3
   },
   "file_extension": ".py",
   "mimetype": "text/x-python",
   "name": "python",
   "nbconvert_exporter": "python",
   "pygments_lexer": "ipython3",
   "version": "3.7.4"
  }
 },
 "nbformat": 4,
 "nbformat_minor": 2
}
