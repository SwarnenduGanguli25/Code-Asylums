{
 "cells": [
  {
   "cell_type": "code",
   "execution_count": 1,
   "metadata": {},
   "outputs": [],
   "source": [
    "import pandas as pd"
   ]
  },
  {
   "cell_type": "code",
   "execution_count": 2,
   "metadata": {},
   "outputs": [],
   "source": [
    "import numpy as np"
   ]
  },
  {
   "cell_type": "code",
   "execution_count": 3,
   "metadata": {},
   "outputs": [
    {
     "name": "stdout",
     "output_type": "stream",
     "text": [
      "{0: 'r', 1: 'a', 2: 'h', 3: 'u', 4: 'l'}\n"
     ]
    }
   ],
   "source": [
    "lis = list('rahul')\n",
    "arr = np.arange(5)\n",
    "\n",
    "dictionary = dict(zip(arr, lis))\n",
    "print(dictionary)"
   ]
  },
  {
   "cell_type": "code",
   "execution_count": 4,
   "metadata": {},
   "outputs": [
    {
     "name": "stdout",
     "output_type": "stream",
     "text": [
      "0    r\n",
      "1    a\n",
      "2    h\n",
      "3    u\n",
      "4    l\n",
      "dtype: object\n",
      "0    0\n",
      "1    1\n",
      "2    2\n",
      "3    3\n",
      "4    4\n",
      "dtype: int64\n",
      "0    r\n",
      "1    a\n",
      "2    h\n",
      "3    u\n",
      "4    l\n",
      "dtype: object\n"
     ]
    }
   ],
   "source": [
    "series1 = pd.Series(lis)\n",
    "series2 = pd.Series(arr)\n",
    "series3 = pd.Series(dictionary)\n",
    "\n",
    "print(series1)\n",
    "print(series2)\n",
    "print(series3)"
   ]
  },
  {
   "cell_type": "code",
   "execution_count": 5,
   "metadata": {},
   "outputs": [],
   "source": [
    "df = series3.reset_index()"
   ]
  },
  {
   "cell_type": "code",
   "execution_count": 6,
   "metadata": {},
   "outputs": [
    {
     "name": "stdout",
     "output_type": "stream",
     "text": [
      "   index  0\n",
      "0      0  r\n",
      "1      1  a\n",
      "2      2  h\n",
      "3      3  u\n",
      "4      4  l\n"
     ]
    }
   ],
   "source": [
    "print(df)"
   ]
  },
  {
   "cell_type": "code",
   "execution_count": 7,
   "metadata": {},
   "outputs": [
    {
     "name": "stdout",
     "output_type": "stream",
     "text": [
      "   level_0  index  0\n",
      "0        0      0  r\n",
      "1        1      1  a\n",
      "2        2      2  h\n",
      "3        3      3  u\n",
      "4        4      4  l\n"
     ]
    }
   ],
   "source": [
    "df = df.reset_index()\n",
    "print(df)"
   ]
  },
  {
   "cell_type": "code",
   "execution_count": 8,
   "metadata": {},
   "outputs": [
    {
     "name": "stdout",
     "output_type": "stream",
     "text": [
      "   0  1\n",
      "0  r  0\n",
      "1  a  1\n",
      "2  h  2\n",
      "3  u  3\n",
      "4  l  4\n"
     ]
    }
   ],
   "source": [
    "df1 = pd.concat([series1, series2], axis = 1)\n",
    "print(df1)"
   ]
  },
  {
   "cell_type": "code",
   "execution_count": 9,
   "metadata": {},
   "outputs": [
    {
     "data": {
      "text/plain": [
       "RangeIndex(start=0, stop=2, step=1)"
      ]
     },
     "execution_count": 9,
     "metadata": {},
     "output_type": "execute_result"
    }
   ],
   "source": [
    "df1.columns"
   ]
  },
  {
   "cell_type": "code",
   "execution_count": 10,
   "metadata": {},
   "outputs": [],
   "source": [
    "df1.columns = ['Col1', 'Col2']"
   ]
  },
  {
   "cell_type": "code",
   "execution_count": 11,
   "metadata": {},
   "outputs": [
    {
     "name": "stdout",
     "output_type": "stream",
     "text": [
      "  Col1  Col2\n",
      "0    r     0\n",
      "1    a     1\n",
      "2    h     2\n",
      "3    u     3\n",
      "4    l     4\n"
     ]
    }
   ],
   "source": [
    "print(df1)"
   ]
  },
  {
   "cell_type": "code",
   "execution_count": 12,
   "metadata": {},
   "outputs": [],
   "source": [
    "df2 = pd.DataFrame({'Col1' : series1, 'Col2' : series2})"
   ]
  },
  {
   "cell_type": "code",
   "execution_count": 13,
   "metadata": {},
   "outputs": [
    {
     "name": "stdout",
     "output_type": "stream",
     "text": [
      "  Col1  Col2\n",
      "0    r     0\n",
      "1    a     1\n",
      "2    h     2\n",
      "3    u     3\n",
      "4    l     4\n"
     ]
    }
   ],
   "source": [
    "print(df2)"
   ]
  },
  {
   "cell_type": "code",
   "execution_count": 14,
   "metadata": {},
   "outputs": [],
   "source": [
    "age_series = pd.Series([21, 23, 25, 27, 29])\n",
    "name_series = pd.Series(['Girish', 'Cristiano', 'Messi', 'Neymar', 'Ramos'])\n",
    "salary_series = pd.Series([125000, 123990, 230000, 233244, 1231232])\n",
    "experience_series = pd.Series([1, 2, 3, 4, 5])\n",
    "\n",
    "df3 = pd.DataFrame({'Age' : age_series, 'Name' : name_series, 'Salary' : salary_series, 'Experience' : experience_series})"
   ]
  },
  {
   "cell_type": "code",
   "execution_count": 15,
   "metadata": {},
   "outputs": [
    {
     "name": "stdout",
     "output_type": "stream",
     "text": [
      "   Age       Name   Salary  Experience\n",
      "0   21     Girish   125000           1\n",
      "1   23  Cristiano   123990           2\n",
      "2   25      Messi   230000           3\n",
      "3   27     Neymar   233244           4\n",
      "4   29      Ramos  1231232           5\n"
     ]
    }
   ],
   "source": [
    "print(df3)"
   ]
  },
  {
   "cell_type": "code",
   "execution_count": 16,
   "metadata": {},
   "outputs": [
    {
     "name": "stdout",
     "output_type": "stream",
     "text": [
      "0    r\n",
      "1    a\n",
      "2    h\n",
      "3    u\n",
      "4    l\n",
      "Name: Col1, dtype: object\n"
     ]
    }
   ],
   "source": [
    "print(df2['Col1'])"
   ]
  },
  {
   "cell_type": "code",
   "execution_count": 17,
   "metadata": {},
   "outputs": [
    {
     "name": "stdout",
     "output_type": "stream",
     "text": [
      "0    0\n",
      "1    1\n",
      "2    2\n",
      "3    3\n",
      "4    4\n",
      "Name: Col2, dtype: int64\n"
     ]
    }
   ],
   "source": [
    "print(df2['Col2'])"
   ]
  },
  {
   "cell_type": "code",
   "execution_count": 18,
   "metadata": {},
   "outputs": [
    {
     "name": "stdout",
     "output_type": "stream",
     "text": [
      "0\n"
     ]
    }
   ],
   "source": [
    "print(df2['Col2'].min())"
   ]
  },
  {
   "cell_type": "code",
   "execution_count": 19,
   "metadata": {},
   "outputs": [
    {
     "name": "stdout",
     "output_type": "stream",
     "text": [
      "4\n"
     ]
    }
   ],
   "source": [
    "print(df2['Col2'].max())"
   ]
  },
  {
   "cell_type": "code",
   "execution_count": 20,
   "metadata": {},
   "outputs": [
    {
     "name": "stdout",
     "output_type": "stream",
     "text": [
      "2.0\n"
     ]
    }
   ],
   "source": [
    "print(df2['Col2'].mean())"
   ]
  },
  {
   "cell_type": "code",
   "execution_count": 21,
   "metadata": {},
   "outputs": [
    {
     "name": "stdout",
     "output_type": "stream",
     "text": [
      "1.5811388300841898\n"
     ]
    }
   ],
   "source": [
    "print(df2['Col2'].std())"
   ]
  },
  {
   "cell_type": "code",
   "execution_count": 22,
   "metadata": {},
   "outputs": [
    {
     "name": "stdout",
     "output_type": "stream",
     "text": [
      "2.0\n"
     ]
    }
   ],
   "source": [
    "print(df2['Col2'].median())"
   ]
  },
  {
   "cell_type": "code",
   "execution_count": 25,
   "metadata": {},
   "outputs": [
    {
     "name": "stdout",
     "output_type": "stream",
     "text": [
      "level_0    2.0\n",
      "index      2.0\n",
      "dtype: float64\n"
     ]
    }
   ],
   "source": [
    "print(df.mean())"
   ]
  },
  {
   "cell_type": "code",
   "execution_count": 26,
   "metadata": {},
   "outputs": [
    {
     "name": "stdout",
     "output_type": "stream",
     "text": [
      "0    0\n",
      "1    1\n",
      "2    2\n",
      "3    3\n",
      "4    4\n",
      "Name: Col2, dtype: int64\n"
     ]
    }
   ],
   "source": [
    "print(df2['Col2'])"
   ]
  },
  {
   "cell_type": "code",
   "execution_count": 27,
   "metadata": {},
   "outputs": [
    {
     "name": "stdout",
     "output_type": "stream",
     "text": [
      "0    0\n",
      "1    1\n",
      "2    2\n",
      "3    3\n",
      "4    4\n",
      "Name: Col2, dtype: int64\n"
     ]
    }
   ],
   "source": [
    "print(df2.Col2)"
   ]
  },
  {
   "cell_type": "code",
   "execution_count": 28,
   "metadata": {},
   "outputs": [],
   "source": [
    "# age, designation, name, salary\n",
    "age_series = pd.Series([21, 23, 25, 27, 29])\n",
    "name_series = pd.Series(['Girish', 'Cristiano', 'Messi', 'Neymar', 'Ramos'])\n",
    "salary_series = pd.Series([125000, 123990, 230000, 233244, 1231232])\n",
    "designation_series = pd.Series(['Manager', 'Developer', 'Developer', 'CEO', 'Developer'])\n",
    "\n",
    "df4 = pd.DataFrame({'age' : age_series, 'designation' : designation_series, 'name' : name_series, 'salary' : salary_series})"
   ]
  },
  {
   "cell_type": "code",
   "execution_count": 29,
   "metadata": {},
   "outputs": [
    {
     "name": "stdout",
     "output_type": "stream",
     "text": [
      "   age designation       name   salary\n",
      "0   21     Manager     Girish   125000\n",
      "1   23   Developer  Cristiano   123990\n",
      "2   25   Developer      Messi   230000\n",
      "3   27         CEO     Neymar   233244\n",
      "4   29   Developer      Ramos  1231232\n"
     ]
    }
   ],
   "source": [
    "print(df4)"
   ]
  },
  {
   "cell_type": "code",
   "execution_count": 30,
   "metadata": {},
   "outputs": [
    {
     "data": {
      "text/html": [
       "<div>\n",
       "<style scoped>\n",
       "    .dataframe tbody tr th:only-of-type {\n",
       "        vertical-align: middle;\n",
       "    }\n",
       "\n",
       "    .dataframe tbody tr th {\n",
       "        vertical-align: top;\n",
       "    }\n",
       "\n",
       "    .dataframe thead th {\n",
       "        text-align: right;\n",
       "    }\n",
       "</style>\n",
       "<table border=\"1\" class=\"dataframe\">\n",
       "  <thead>\n",
       "    <tr style=\"text-align: right;\">\n",
       "      <th></th>\n",
       "      <th>designation</th>\n",
       "      <th>name</th>\n",
       "      <th>salary</th>\n",
       "    </tr>\n",
       "    <tr>\n",
       "      <th>age</th>\n",
       "      <th></th>\n",
       "      <th></th>\n",
       "      <th></th>\n",
       "    </tr>\n",
       "  </thead>\n",
       "  <tbody>\n",
       "    <tr>\n",
       "      <td>21</td>\n",
       "      <td>Manager</td>\n",
       "      <td>Girish</td>\n",
       "      <td>125000</td>\n",
       "    </tr>\n",
       "    <tr>\n",
       "      <td>23</td>\n",
       "      <td>Developer</td>\n",
       "      <td>Cristiano</td>\n",
       "      <td>123990</td>\n",
       "    </tr>\n",
       "    <tr>\n",
       "      <td>25</td>\n",
       "      <td>Developer</td>\n",
       "      <td>Messi</td>\n",
       "      <td>230000</td>\n",
       "    </tr>\n",
       "    <tr>\n",
       "      <td>27</td>\n",
       "      <td>CEO</td>\n",
       "      <td>Neymar</td>\n",
       "      <td>233244</td>\n",
       "    </tr>\n",
       "    <tr>\n",
       "      <td>29</td>\n",
       "      <td>Developer</td>\n",
       "      <td>Ramos</td>\n",
       "      <td>1231232</td>\n",
       "    </tr>\n",
       "  </tbody>\n",
       "</table>\n",
       "</div>"
      ],
      "text/plain": [
       "    designation       name   salary\n",
       "age                                \n",
       "21      Manager     Girish   125000\n",
       "23    Developer  Cristiano   123990\n",
       "25    Developer      Messi   230000\n",
       "27          CEO     Neymar   233244\n",
       "29    Developer      Ramos  1231232"
      ]
     },
     "execution_count": 30,
     "metadata": {},
     "output_type": "execute_result"
    }
   ],
   "source": [
    "df4.set_index(['age'])"
   ]
  },
  {
   "cell_type": "code",
   "execution_count": 31,
   "metadata": {},
   "outputs": [
    {
     "data": {
      "text/html": [
       "<div>\n",
       "<style scoped>\n",
       "    .dataframe tbody tr th:only-of-type {\n",
       "        vertical-align: middle;\n",
       "    }\n",
       "\n",
       "    .dataframe tbody tr th {\n",
       "        vertical-align: top;\n",
       "    }\n",
       "\n",
       "    .dataframe thead th {\n",
       "        text-align: right;\n",
       "    }\n",
       "</style>\n",
       "<table border=\"1\" class=\"dataframe\">\n",
       "  <thead>\n",
       "    <tr style=\"text-align: right;\">\n",
       "      <th></th>\n",
       "      <th>index</th>\n",
       "      <th>age</th>\n",
       "      <th>designation</th>\n",
       "      <th>name</th>\n",
       "      <th>salary</th>\n",
       "    </tr>\n",
       "  </thead>\n",
       "  <tbody>\n",
       "    <tr>\n",
       "      <td>0</td>\n",
       "      <td>0</td>\n",
       "      <td>21</td>\n",
       "      <td>Manager</td>\n",
       "      <td>Girish</td>\n",
       "      <td>125000</td>\n",
       "    </tr>\n",
       "    <tr>\n",
       "      <td>1</td>\n",
       "      <td>1</td>\n",
       "      <td>23</td>\n",
       "      <td>Developer</td>\n",
       "      <td>Cristiano</td>\n",
       "      <td>123990</td>\n",
       "    </tr>\n",
       "    <tr>\n",
       "      <td>2</td>\n",
       "      <td>2</td>\n",
       "      <td>25</td>\n",
       "      <td>Developer</td>\n",
       "      <td>Messi</td>\n",
       "      <td>230000</td>\n",
       "    </tr>\n",
       "    <tr>\n",
       "      <td>3</td>\n",
       "      <td>3</td>\n",
       "      <td>27</td>\n",
       "      <td>CEO</td>\n",
       "      <td>Neymar</td>\n",
       "      <td>233244</td>\n",
       "    </tr>\n",
       "    <tr>\n",
       "      <td>4</td>\n",
       "      <td>4</td>\n",
       "      <td>29</td>\n",
       "      <td>Developer</td>\n",
       "      <td>Ramos</td>\n",
       "      <td>1231232</td>\n",
       "    </tr>\n",
       "  </tbody>\n",
       "</table>\n",
       "</div>"
      ],
      "text/plain": [
       "   index  age designation       name   salary\n",
       "0      0   21     Manager     Girish   125000\n",
       "1      1   23   Developer  Cristiano   123990\n",
       "2      2   25   Developer      Messi   230000\n",
       "3      3   27         CEO     Neymar   233244\n",
       "4      4   29   Developer      Ramos  1231232"
      ]
     },
     "execution_count": 31,
     "metadata": {},
     "output_type": "execute_result"
    }
   ],
   "source": [
    "df4.reset_index()"
   ]
  },
  {
   "cell_type": "code",
   "execution_count": 32,
   "metadata": {},
   "outputs": [
    {
     "name": "stdout",
     "output_type": "stream",
     "text": [
      "   age designation       name   salary\n",
      "0   21     Manager     Girish   125000\n",
      "1   23   Developer  Cristiano   123990\n",
      "2   25   Developer      Messi   230000\n",
      "3   27         CEO     Neymar   233244\n",
      "4   29   Developer      Ramos  1231232\n"
     ]
    }
   ],
   "source": [
    "df5 = pd.DataFrame({'age' : age_series, 'designation' : designation_series, 'name' : name_series, 'salary' : salary_series})\n",
    "print(df5)"
   ]
  },
  {
   "cell_type": "code",
   "execution_count": 39,
   "metadata": {},
   "outputs": [],
   "source": [
    "df6 = df5.set_index(['age'])"
   ]
  },
  {
   "cell_type": "code",
   "execution_count": 34,
   "metadata": {},
   "outputs": [
    {
     "name": "stdout",
     "output_type": "stream",
     "text": [
      "0      Manager\n",
      "1    Developer\n",
      "2    Developer\n",
      "3          CEO\n",
      "4    Developer\n",
      "Name: designation, dtype: object\n"
     ]
    }
   ],
   "source": [
    "print(df5['designation'])"
   ]
  },
  {
   "cell_type": "code",
   "execution_count": 37,
   "metadata": {},
   "outputs": [
    {
     "name": "stdout",
     "output_type": "stream",
     "text": [
      "   age designation       name   salary\n",
      "1   23   Developer  Cristiano   123990\n",
      "2   25   Developer      Messi   230000\n",
      "3   27         CEO     Neymar   233244\n",
      "4   29   Developer      Ramos  1231232\n"
     ]
    }
   ],
   "source": [
    "print(df5[1:])"
   ]
  },
  {
   "cell_type": "code",
   "execution_count": 38,
   "metadata": {},
   "outputs": [
    {
     "name": "stdout",
     "output_type": "stream",
     "text": [
      "age                 21\n",
      "designation    Manager\n",
      "name            Girish\n",
      "salary          125000\n",
      "Name: 0, dtype: object\n"
     ]
    }
   ],
   "source": [
    "print(df5.iloc[0])"
   ]
  },
  {
   "cell_type": "code",
   "execution_count": 40,
   "metadata": {},
   "outputs": [
    {
     "name": "stdout",
     "output_type": "stream",
     "text": [
      "age                   29\n",
      "designation    Developer\n",
      "name               Ramos\n",
      "salary           1231232\n",
      "Name: 4, dtype: object\n"
     ]
    }
   ],
   "source": [
    "print(df5.loc[4])"
   ]
  },
  {
   "cell_type": "code",
   "execution_count": 41,
   "metadata": {},
   "outputs": [
    {
     "name": "stdout",
     "output_type": "stream",
     "text": [
      "    designation       name   salary\n",
      "age                                \n",
      "21      Manager     Girish   125000\n",
      "23    Developer  Cristiano   123990\n",
      "25    Developer      Messi   230000\n",
      "27          CEO     Neymar   233244\n",
      "29    Developer      Ramos  1231232\n"
     ]
    }
   ],
   "source": [
    "print(df6)"
   ]
  },
  {
   "cell_type": "code",
   "execution_count": 45,
   "metadata": {},
   "outputs": [
    {
     "name": "stdout",
     "output_type": "stream",
     "text": [
      "designation    Developer\n",
      "name           Cristiano\n",
      "salary            123990\n",
      "Name: 23, dtype: object\n"
     ]
    }
   ],
   "source": [
    "print(df6.loc[23]) # Index Based"
   ]
  },
  {
   "cell_type": "code",
   "execution_count": 46,
   "metadata": {},
   "outputs": [
    {
     "name": "stdout",
     "output_type": "stream",
     "text": [
      "designation    Developer\n",
      "name           Cristiano\n",
      "salary            123990\n",
      "Name: 23, dtype: object\n"
     ]
    }
   ],
   "source": [
    "print(df6.iloc[1]) # Row Number based"
   ]
  },
  {
   "cell_type": "code",
   "execution_count": 47,
   "metadata": {},
   "outputs": [
    {
     "name": "stdout",
     "output_type": "stream",
     "text": [
      "designation    Developer\n",
      "name               Ramos\n",
      "salary           1231232\n",
      "Name: 29, dtype: object\n"
     ]
    }
   ],
   "source": [
    "print(df6.loc[29])"
   ]
  },
  {
   "cell_type": "code",
   "execution_count": 48,
   "metadata": {},
   "outputs": [
    {
     "name": "stdout",
     "output_type": "stream",
     "text": [
      "    designation   name  salary\n",
      "age                           \n",
      "25    Developer  Messi  230000\n"
     ]
    }
   ],
   "source": [
    "print(df6[df6['name'] == 'Messi'])"
   ]
  },
  {
   "cell_type": "code",
   "execution_count": 49,
   "metadata": {},
   "outputs": [
    {
     "name": "stdout",
     "output_type": "stream",
     "text": [
      "age\n",
      "25    230000\n",
      "Name: salary, dtype: int64\n"
     ]
    }
   ],
   "source": [
    "print(df6[df6['name'] == 'Messi'].salary)"
   ]
  },
  {
   "cell_type": "code",
   "execution_count": 52,
   "metadata": {},
   "outputs": [
    {
     "name": "stdout",
     "output_type": "stream",
     "text": [
      "salary    528407.333333\n",
      "dtype: float64\n"
     ]
    }
   ],
   "source": [
    "print(df6[df6['designation'] == 'Developer'].mean())"
   ]
  },
  {
   "cell_type": "code",
   "execution_count": 58,
   "metadata": {},
   "outputs": [
    {
     "name": "stdout",
     "output_type": "stream",
     "text": [
      "610967.604772408\n"
     ]
    }
   ],
   "source": [
    "print(df6[df6['designation'] == 'Developer'].salary.std())"
   ]
  },
  {
   "cell_type": "code",
   "execution_count": 59,
   "metadata": {},
   "outputs": [
    {
     "name": "stdout",
     "output_type": "stream",
     "text": [
      "    designation       name   salary\n",
      "age                                \n",
      "29    Developer      Ramos  1231232\n",
      "27          CEO     Neymar   233244\n",
      "25    Developer      Messi   230000\n",
      "21      Manager     Girish   125000\n",
      "23    Developer  Cristiano   123990\n"
     ]
    }
   ],
   "source": [
    "print(df6.sort_values('salary', ascending = False))"
   ]
  },
  {
   "cell_type": "code",
   "execution_count": 65,
   "metadata": {},
   "outputs": [
    {
     "data": {
      "text/html": [
       "<div>\n",
       "<style scoped>\n",
       "    .dataframe tbody tr th:only-of-type {\n",
       "        vertical-align: middle;\n",
       "    }\n",
       "\n",
       "    .dataframe tbody tr th {\n",
       "        vertical-align: top;\n",
       "    }\n",
       "\n",
       "    .dataframe thead th {\n",
       "        text-align: right;\n",
       "    }\n",
       "</style>\n",
       "<table border=\"1\" class=\"dataframe\">\n",
       "  <thead>\n",
       "    <tr style=\"text-align: right;\">\n",
       "      <th></th>\n",
       "      <th>designation</th>\n",
       "      <th>name</th>\n",
       "      <th>salary</th>\n",
       "    </tr>\n",
       "    <tr>\n",
       "      <th>age</th>\n",
       "      <th></th>\n",
       "      <th></th>\n",
       "      <th></th>\n",
       "    </tr>\n",
       "  </thead>\n",
       "  <tbody>\n",
       "    <tr>\n",
       "      <td>21</td>\n",
       "      <td>Manager</td>\n",
       "      <td>Girish</td>\n",
       "      <td>125000</td>\n",
       "    </tr>\n",
       "    <tr>\n",
       "      <td>27</td>\n",
       "      <td>CEO</td>\n",
       "      <td>Neymar</td>\n",
       "      <td>233244</td>\n",
       "    </tr>\n",
       "  </tbody>\n",
       "</table>\n",
       "</div>"
      ],
      "text/plain": [
       "    designation    name  salary\n",
       "age                            \n",
       "21      Manager  Girish  125000\n",
       "27          CEO  Neymar  233244"
      ]
     },
     "execution_count": 65,
     "metadata": {},
     "output_type": "execute_result"
    }
   ],
   "source": [
    "df6[(df6['designation'] == 'Manager') | (df6['designation'] == 'CEO')] "
   ]
  },
  {
   "cell_type": "code",
   "execution_count": 68,
   "metadata": {},
   "outputs": [
    {
     "name": "stdout",
     "output_type": "stream",
     "text": [
      "233244\n"
     ]
    }
   ],
   "source": [
    "# Second Max Salary\n",
    "print(df6.sort_values('salary', ascending = False).iloc[1].salary)"
   ]
  },
  {
   "cell_type": "code",
   "execution_count": 69,
   "metadata": {},
   "outputs": [
    {
     "data": {
      "text/plain": [
       "<pandas.core.groupby.generic.DataFrameGroupBy object at 0x7f4cf0ab8f10>"
      ]
     },
     "execution_count": 69,
     "metadata": {},
     "output_type": "execute_result"
    }
   ],
   "source": [
    "df6.groupby('designation')"
   ]
  },
  {
   "cell_type": "code",
   "execution_count": 74,
   "metadata": {},
   "outputs": [
    {
     "data": {
      "text/plain": [
       "designation    0\n",
       "name           0\n",
       "salary         0\n",
       "dtype: int64"
      ]
     },
     "execution_count": 74,
     "metadata": {},
     "output_type": "execute_result"
    }
   ],
   "source": [
    "#Count number of null values\n",
    "df6.isnull().sum()"
   ]
  },
  {
   "cell_type": "code",
   "execution_count": 75,
   "metadata": {},
   "outputs": [
    {
     "data": {
      "text/html": [
       "<div>\n",
       "<style scoped>\n",
       "    .dataframe tbody tr th:only-of-type {\n",
       "        vertical-align: middle;\n",
       "    }\n",
       "\n",
       "    .dataframe tbody tr th {\n",
       "        vertical-align: top;\n",
       "    }\n",
       "\n",
       "    .dataframe thead th {\n",
       "        text-align: right;\n",
       "    }\n",
       "</style>\n",
       "<table border=\"1\" class=\"dataframe\">\n",
       "  <thead>\n",
       "    <tr style=\"text-align: right;\">\n",
       "      <th></th>\n",
       "      <th>designation</th>\n",
       "      <th>name</th>\n",
       "      <th>salary</th>\n",
       "    </tr>\n",
       "    <tr>\n",
       "      <th>age</th>\n",
       "      <th></th>\n",
       "      <th></th>\n",
       "      <th></th>\n",
       "    </tr>\n",
       "  </thead>\n",
       "  <tbody>\n",
       "    <tr>\n",
       "      <td>21</td>\n",
       "      <td>Manager</td>\n",
       "      <td>Girish</td>\n",
       "      <td>125000</td>\n",
       "    </tr>\n",
       "    <tr>\n",
       "      <td>23</td>\n",
       "      <td>Developer</td>\n",
       "      <td>Cristiano</td>\n",
       "      <td>123990</td>\n",
       "    </tr>\n",
       "    <tr>\n",
       "      <td>25</td>\n",
       "      <td>Developer</td>\n",
       "      <td>Messi</td>\n",
       "      <td>230000</td>\n",
       "    </tr>\n",
       "    <tr>\n",
       "      <td>27</td>\n",
       "      <td>CEO</td>\n",
       "      <td>Neymar</td>\n",
       "      <td>233244</td>\n",
       "    </tr>\n",
       "    <tr>\n",
       "      <td>29</td>\n",
       "      <td>Developer</td>\n",
       "      <td>Ramos</td>\n",
       "      <td>1231232</td>\n",
       "    </tr>\n",
       "  </tbody>\n",
       "</table>\n",
       "</div>"
      ],
      "text/plain": [
       "    designation       name   salary\n",
       "age                                \n",
       "21      Manager     Girish   125000\n",
       "23    Developer  Cristiano   123990\n",
       "25    Developer      Messi   230000\n",
       "27          CEO     Neymar   233244\n",
       "29    Developer      Ramos  1231232"
      ]
     },
     "execution_count": 75,
     "metadata": {},
     "output_type": "execute_result"
    }
   ],
   "source": [
    "# Fill null values with mean\n",
    "df6.fillna(df6['salary'].mean())"
   ]
  },
  {
   "cell_type": "code",
   "execution_count": 76,
   "metadata": {},
   "outputs": [],
   "source": [
    "# Delete column\n",
    "#del df6['salary']\n",
    "\n",
    "#drop(column, axis = 1)"
   ]
  },
  {
   "cell_type": "code",
   "execution_count": 77,
   "metadata": {},
   "outputs": [],
   "source": [
    "# SQL \n",
    "\n",
    "# select * from table1;\n",
    "# print(table1)\n",
    "\n",
    "# select salary from table1;\n",
    "# print(table1['salary'])\n",
    "\n",
    "# select * from table1 where designation = 'CEO';\n",
    "# print(table1[table1['designation' == 'CEO']])\n",
    "\n",
    "# select max(salary) from table1 where designation = 'CEO'\n",
    "# print(table1[table1['designation'] == 'CEO'].salary.max())"
   ]
  },
  {
   "cell_type": "code",
   "execution_count": 78,
   "metadata": {},
   "outputs": [],
   "source": [
    "# TODO (Read)\n",
    "\n",
    "# corr\n",
    "# cov\n",
    "\n",
    "\n",
    "# histogram\n",
    "# boxplot\n",
    "# pairplot\n",
    "# barplot\n",
    "# piechart\n",
    "# scatterplot\n",
    "\n",
    "# pdf\n",
    "# cdf"
   ]
  },
  {
   "cell_type": "code",
   "execution_count": null,
   "metadata": {},
   "outputs": [],
   "source": []
  }
 ],
 "metadata": {
  "kernelspec": {
   "display_name": "Python 3",
   "language": "python",
   "name": "python3"
  },
  "language_info": {
   "codemirror_mode": {
    "name": "ipython",
    "version": 3
   },
   "file_extension": ".py",
   "mimetype": "text/x-python",
   "name": "python",
   "nbconvert_exporter": "python",
   "pygments_lexer": "ipython3",
   "version": "3.7.4"
  }
 },
 "nbformat": 4,
 "nbformat_minor": 2
}
